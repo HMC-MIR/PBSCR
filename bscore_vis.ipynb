{
 "cells": [
  {
   "cell_type": "code",
   "execution_count": 7,
   "metadata": {},
   "outputs": [],
   "source": [
    "from glob import glob\n",
    "from pathlib import Path\n",
    "import pandas as pd\n",
    "import random\n",
    "import numpy as np\n",
    "import matplotlib.pyplot as plt"
   ]
  },
  {
   "cell_type": "code",
   "execution_count": 8,
   "metadata": {},
   "outputs": [],
   "source": [
    "a = ['Bach,_Johann_Sebastian', 'Beethoven,_Ludwig_van', 'Chopin,_Fr%C3%A9d%C3%A9ric', 'Haydn,_Joseph', 'Liszt,_Franz', 'Mozart,_Wolfgang_Amadeus', 'Schubert,_Franz', 'Schumann,_Robert', 'Scriabin,_Aleksandr']\n",
    "b = [\"Bach\", \"Beethoven\", \"Chopin\", \"Haydn\", \"Liszt\", \"Mozart\", \"Schubert\", \"Schumann\", \"Scriabin\"]\n",
    "\n",
    "name2last = dict(zip(a, b))"
   ]
  },
  {
   "cell_type": "code",
   "execution_count": 9,
   "metadata": {},
   "outputs": [
    {
     "ename": "FileNotFoundError",
     "evalue": "[Errno 2] No such file or directory: 'ttmp/PBSCSR/baselines/9_way_dataset.pkl'",
     "output_type": "error",
     "traceback": [
      "\u001b[0;31m---------------------------------------------------------------------------\u001b[0m",
      "\u001b[0;31mFileNotFoundError\u001b[0m                         Traceback (most recent call last)",
      "Cell \u001b[0;32mIn[9], line 40\u001b[0m\n\u001b[1;32m     34\u001b[0m     \u001b[38;5;66;03m# train_df[\"text\"] = train_df[\"bscore\"].apply(dense_encoder)\u001b[39;00m\n\u001b[1;32m     35\u001b[0m     \u001b[38;5;66;03m# val_df[\"text\"] = val_df[\"bscore\"].apply(dense_encoder)\u001b[39;00m\n\u001b[1;32m     36\u001b[0m     \u001b[38;5;66;03m# test_df[\"text\"] = test_df[\"bscore\"].apply(dense_encoder)\u001b[39;00m\n\u001b[1;32m     38\u001b[0m     \u001b[38;5;28;01mreturn\u001b[39;00m train_df, val_df, test_df\n\u001b[0;32m---> 40\u001b[0m train_df, _, _ \u001b[38;5;241m=\u001b[39m data_preparation(d_path)\n\u001b[1;32m     43\u001b[0m \u001b[38;5;66;03m# path = Path(\"/home/ajain/ttmp/PBSCSR_data/piano_bootleg_scores/imslp_bootleg_dir-v1\")\u001b[39;00m\n\u001b[1;32m     44\u001b[0m scores \u001b[38;5;241m=\u001b[39m {}\n",
      "Cell \u001b[0;32mIn[9], line 27\u001b[0m, in \u001b[0;36mdata_preparation\u001b[0;34m(labeled_data)\u001b[0m\n\u001b[1;32m     14\u001b[0m \u001b[38;5;28;01mdef\u001b[39;00m \u001b[38;5;21mdata_preparation\u001b[39m(labeled_data):\n\u001b[1;32m     15\u001b[0m \u001b[38;5;250m    \u001b[39m\u001b[38;5;124;03m\"\"\"Prepare data for training, validation, and testing.\u001b[39;00m\n\u001b[1;32m     16\u001b[0m \u001b[38;5;124;03m    \u001b[39;00m\n\u001b[1;32m     17\u001b[0m \u001b[38;5;124;03m    Returns\u001b[39;00m\n\u001b[0;32m   (...)\u001b[0m\n\u001b[1;32m     24\u001b[0m \u001b[38;5;124;03m        Testing data with 2 columns, \"text\" and \"label\".\u001b[39;00m\n\u001b[1;32m     25\u001b[0m \u001b[38;5;124;03m    \"\"\"\u001b[39;00m\n\u001b[0;32m---> 27\u001b[0m     d \u001b[38;5;241m=\u001b[39m pd\u001b[38;5;241m.\u001b[39mread_pickle(labeled_data)\n\u001b[1;32m     28\u001b[0m     train_X, train_y, val_X, val_y, test_X, test_y \u001b[38;5;241m=\u001b[39m d[\u001b[38;5;241m0\u001b[39m], d[\u001b[38;5;241m1\u001b[39m], d[\u001b[38;5;241m2\u001b[39m], d[\u001b[38;5;241m3\u001b[39m], d[\u001b[38;5;241m4\u001b[39m], d[\u001b[38;5;241m5\u001b[39m]\n\u001b[1;32m     30\u001b[0m     train_df \u001b[38;5;241m=\u001b[39m pd\u001b[38;5;241m.\u001b[39mDataFrame({\u001b[38;5;124m\"\u001b[39m\u001b[38;5;124mbscore\u001b[39m\u001b[38;5;124m\"\u001b[39m: train_X, \u001b[38;5;124m\"\u001b[39m\u001b[38;5;124mlabel\u001b[39m\u001b[38;5;124m\"\u001b[39m: train_y})\n",
      "File \u001b[0;32m~/ttmp/anaconda3/envs/baselines/lib/python3.11/site-packages/pandas/io/pickle.py:179\u001b[0m, in \u001b[0;36mread_pickle\u001b[0;34m(filepath_or_buffer, compression, storage_options)\u001b[0m\n\u001b[1;32m    115\u001b[0m \u001b[38;5;250m\u001b[39m\u001b[38;5;124;03m\"\"\"\u001b[39;00m\n\u001b[1;32m    116\u001b[0m \u001b[38;5;124;03mLoad pickled pandas object (or any object) from file.\u001b[39;00m\n\u001b[1;32m    117\u001b[0m \n\u001b[0;32m   (...)\u001b[0m\n\u001b[1;32m    176\u001b[0m \u001b[38;5;124;03m4    4    9\u001b[39;00m\n\u001b[1;32m    177\u001b[0m \u001b[38;5;124;03m\"\"\"\u001b[39;00m\n\u001b[1;32m    178\u001b[0m excs_to_catch \u001b[38;5;241m=\u001b[39m (\u001b[38;5;167;01mAttributeError\u001b[39;00m, \u001b[38;5;167;01mImportError\u001b[39;00m, \u001b[38;5;167;01mModuleNotFoundError\u001b[39;00m, \u001b[38;5;167;01mTypeError\u001b[39;00m)\n\u001b[0;32m--> 179\u001b[0m \u001b[38;5;28;01mwith\u001b[39;00m get_handle(\n\u001b[1;32m    180\u001b[0m     filepath_or_buffer,\n\u001b[1;32m    181\u001b[0m     \u001b[38;5;124m\"\u001b[39m\u001b[38;5;124mrb\u001b[39m\u001b[38;5;124m\"\u001b[39m,\n\u001b[1;32m    182\u001b[0m     compression\u001b[38;5;241m=\u001b[39mcompression,\n\u001b[1;32m    183\u001b[0m     is_text\u001b[38;5;241m=\u001b[39m\u001b[38;5;28;01mFalse\u001b[39;00m,\n\u001b[1;32m    184\u001b[0m     storage_options\u001b[38;5;241m=\u001b[39mstorage_options,\n\u001b[1;32m    185\u001b[0m ) \u001b[38;5;28;01mas\u001b[39;00m handles:\n\u001b[1;32m    186\u001b[0m     \u001b[38;5;66;03m# 1) try standard library Pickle\u001b[39;00m\n\u001b[1;32m    187\u001b[0m     \u001b[38;5;66;03m# 2) try pickle_compat (older pandas version) to handle subclass changes\u001b[39;00m\n\u001b[1;32m    188\u001b[0m     \u001b[38;5;66;03m# 3) try pickle_compat with latin-1 encoding upon a UnicodeDecodeError\u001b[39;00m\n\u001b[1;32m    190\u001b[0m     \u001b[38;5;28;01mtry\u001b[39;00m:\n\u001b[1;32m    191\u001b[0m         \u001b[38;5;66;03m# TypeError for Cython complaints about object.__new__ vs Tick.__new__\u001b[39;00m\n\u001b[1;32m    192\u001b[0m         \u001b[38;5;28;01mtry\u001b[39;00m:\n",
      "File \u001b[0;32m~/ttmp/anaconda3/envs/baselines/lib/python3.11/site-packages/pandas/io/common.py:868\u001b[0m, in \u001b[0;36mget_handle\u001b[0;34m(path_or_buf, mode, encoding, compression, memory_map, is_text, errors, storage_options)\u001b[0m\n\u001b[1;32m    859\u001b[0m         handle \u001b[38;5;241m=\u001b[39m \u001b[38;5;28mopen\u001b[39m(\n\u001b[1;32m    860\u001b[0m             handle,\n\u001b[1;32m    861\u001b[0m             ioargs\u001b[38;5;241m.\u001b[39mmode,\n\u001b[0;32m   (...)\u001b[0m\n\u001b[1;32m    864\u001b[0m             newline\u001b[38;5;241m=\u001b[39m\u001b[38;5;124m\"\u001b[39m\u001b[38;5;124m\"\u001b[39m,\n\u001b[1;32m    865\u001b[0m         )\n\u001b[1;32m    866\u001b[0m     \u001b[38;5;28;01melse\u001b[39;00m:\n\u001b[1;32m    867\u001b[0m         \u001b[38;5;66;03m# Binary mode\u001b[39;00m\n\u001b[0;32m--> 868\u001b[0m         handle \u001b[38;5;241m=\u001b[39m \u001b[38;5;28mopen\u001b[39m(handle, ioargs\u001b[38;5;241m.\u001b[39mmode)\n\u001b[1;32m    869\u001b[0m     handles\u001b[38;5;241m.\u001b[39mappend(handle)\n\u001b[1;32m    871\u001b[0m \u001b[38;5;66;03m# Convert BytesIO or file objects passed with an encoding\u001b[39;00m\n",
      "\u001b[0;31mFileNotFoundError\u001b[0m: [Errno 2] No such file or directory: 'ttmp/PBSCSR/baselines/9_way_dataset.pkl'"
     ]
    }
   ],
   "source": [
    "import matplotlib.pyplot as plt\n",
    "import pandas as pd\n",
    "def visualize_bootleg_score(ax, bs, lines = [13, 15, 17, 19, 21, 25, 27, 29, 31, 33]):\n",
    "    if bs.shape[0] == 62:\n",
    "        lines = [13, 15, 17, 19, 21, 35, 37, 39, 41, 43]\n",
    "    # plt.figure(figsize = (10,10))\n",
    "    ax.imshow(1 -bs, cmap = 'gray', origin = 'lower')\n",
    "    # for l in range(1, bs.shape[0], 2):\n",
    "    #     plt.axhline(l, c = 'grey')\n",
    "    for l in lines:\n",
    "        ax.axhline(l, c = 'black')\n",
    "\n",
    "d_path = \"ttmp/PBSCSR/baselines/9_way_dataset.pkl\"\n",
    "def data_preparation(labeled_data):\n",
    "    \"\"\"Prepare data for training, validation, and testing.\n",
    "    \n",
    "    Returns\n",
    "    -------\n",
    "    train_df : pd.DataFrame\n",
    "        Training data with 2 columns, \"text\" and \"label\".\n",
    "    val_df : pd.DataFrame\n",
    "        Validation data with 2 columns, \"text\" and \"label\".\n",
    "    test_df : pd.DataFrame\n",
    "        Testing data with 2 columns, \"text\" and \"label\".\n",
    "    \"\"\"\n",
    "\n",
    "    d = pd.read_pickle(labeled_data)\n",
    "    train_X, train_y, val_X, val_y, test_X, test_y = d[0], d[1], d[2], d[3], d[4], d[5]\n",
    "\n",
    "    train_df = pd.DataFrame({\"bscore\": train_X, \"label\": train_y})\n",
    "    val_df = pd.DataFrame({\"bscore\": val_X, \"label\": val_y})\n",
    "    test_df = pd.DataFrame({\"bscore\": test_X, \"label\": test_y})\n",
    "\n",
    "    # train_df[\"text\"] = train_df[\"bscore\"].apply(dense_encoder)\n",
    "    # val_df[\"text\"] = val_df[\"bscore\"].apply(dense_encoder)\n",
    "    # test_df[\"text\"] = test_df[\"bscore\"].apply(dense_encoder)\n",
    "    \n",
    "    return train_df, val_df, test_df\n",
    "\n",
    "train_df, _, _ = data_preparation(d_path)\n",
    "\n",
    "\n",
    "# path = Path(\"/home/ajain/ttmp/PBSCSR_data/piano_bootleg_scores/imslp_bootleg_dir-v1\")\n",
    "scores = {}\n",
    "with open(\"ttmp/PBSCSR/baselines/9_way_dataset.pkl\", \"r\") as f:\n",
    "    composers = f.readlines()\n",
    "    for composer in composers:\n",
    "        s = train_df[train_df[\"label\"] == composer.strip()][\"bscore\"].sample(random_state=10)\n",
    "        scores[composer.strip()] = s.values[0]\n",
    "\n",
    "fig, axs = plt.subplots(3, 3, figsize = (15, 15))\n",
    "axs = axs.flatten()\n",
    "for i, (k, v) in enumerate(scores.items()):\n",
    "    visualize_bootleg_score(axs[i], v.T)\n",
    "    axs[i].set_title(name2last[k])\n",
    "    axs[i].axis('off')\n"
   ]
  },
  {
   "cell_type": "code",
   "execution_count": null,
   "metadata": {},
   "outputs": [],
   "source": []
  }
 ],
 "metadata": {
  "kernelspec": {
   "display_name": "baselines",
   "language": "python",
   "name": "baselines"
  }
 },
 "nbformat": 4,
 "nbformat_minor": 4
}
