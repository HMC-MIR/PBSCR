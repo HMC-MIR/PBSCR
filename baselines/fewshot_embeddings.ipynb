{
 "cells": [
  {
   "cell_type": "code",
   "execution_count": 1,
   "metadata": {},
   "outputs": [],
   "source": [
    "from pathlib import Path\n",
    "import json\n",
    "import sys\n",
    "import torch\n",
    "import torch.nn as nn\n",
    "import evaluate\n",
    "import transformers\n",
    "import numpy as np\n",
    "import pandas as pd\n",
    "import pickle\n",
    "import sys\n",
    "sys.path.append(\"../\")\n",
    "import encoders\n",
    "\n",
    "from tqdm.notebook import tqdm\n",
    "from datasets import Dataset\n",
    "from transformers import AutoConfig, \\\n",
    "    DataCollatorWithPadding, AutoModelForSequenceClassification, \\\n",
    "    Trainer, TrainingArguments, AutoTokenizer"
   ]
  },
  {
   "cell_type": "code",
   "execution_count": 2,
   "metadata": {},
   "outputs": [],
   "source": [
    "# with open(f\"../9_way_dataset.pkl\", \"rb\") as f:\n",
    "with open(f\"/home/jliu/ttmp/PBSCSR/baselines/9_way_dataset.pkl\", \"rb\") as f:\n",
    "    x_train9, y_train9, x_valid9, y_valid9, x_test9, y_test9, m_train9, m_valid9, m_test9 = pickle.load(f)\n",
    "\n",
    "composers9 = np.unique(y_train9)\n",
    "y_train9 = np.stack(y_train9)\n",
    "y_test9 = np.stack(y_test9)\n",
    "\n",
    "# with open(f\"../100_way_dataset.pkl\", \"rb\") as f:\n",
    "with open(f\"/home/jliu/ttmp/PBSCSR/baselines/100_way_dataset.pkl\", \"rb\") as f:\n",
    "    x_train100, y_train100, x_valid100, y_valid100, x_test100, y_test100, m_train100, m_valid100, m_test100 = pickle.load(f)\n",
    "\n",
    "composers100 = np.unique(y_train100)\n",
    "y_train100 = np.stack(y_train100)\n",
    "y_test100 = np.stack(y_test100)"
   ]
  },
  {
   "cell_type": "code",
   "execution_count": 3,
   "metadata": {},
   "outputs": [],
   "source": [
    "def LM_extract(x, model, tokenizer, device):\n",
    "    encoded = [encoders.dense_encoder(i, block_size=[1, 8]) for i in x]\n",
    "\n",
    "    tokenized = torch.Tensor([i[:64] for i in tokenizer(encoded)['input_ids']]).to(device).long()\n",
    "    \n",
    "    # Do in batches to ensure no OOM\n",
    "    batch_size = 32\n",
    "\n",
    "    extracted = []\n",
    "    with torch.no_grad():\n",
    "        for i in tqdm(range(0, tokenized.shape[0], batch_size)):\n",
    "            extracted.append(model(tokenized[i:i+batch_size])[\"last_hidden_state\"][:, -1])\n",
    "\n",
    "    extracted = torch.cat(extracted, axis=0)\n",
    "\n",
    "    return extracted.cpu().numpy()"
   ]
  },
  {
   "cell_type": "markdown",
   "metadata": {},
   "source": [
    "## GPT-2 Extraction"
   ]
  },
  {
   "cell_type": "code",
   "execution_count": 4,
   "metadata": {},
   "outputs": [
    {
     "name": "stderr",
     "output_type": "stream",
     "text": [
      "Some weights of GPT2ForSequenceClassification were not initialized from the model checkpoint at /home/jliu/ttmp/PBSCSR/gpt2/pretrained_model and are newly initialized: ['score.weight']\n",
      "You should probably TRAIN this model on a down-stream task to be able to use it for predictions and inference.\n"
     ]
    },
    {
     "data": {
      "text/plain": [
       "GPT2ForSequenceClassification(\n",
       "  (transformer): GPT2Model(\n",
       "    (wte): Embedding(30001, 768)\n",
       "    (wpe): Embedding(1024, 768)\n",
       "    (drop): Dropout(p=0.1, inplace=False)\n",
       "    (h): ModuleList(\n",
       "      (0-5): 6 x GPT2Block(\n",
       "        (ln_1): LayerNorm((768,), eps=1e-05, elementwise_affine=True)\n",
       "        (attn): GPT2Attention(\n",
       "          (c_attn): Conv1D()\n",
       "          (c_proj): Conv1D()\n",
       "          (attn_dropout): Dropout(p=0.1, inplace=False)\n",
       "          (resid_dropout): Dropout(p=0.1, inplace=False)\n",
       "        )\n",
       "        (ln_2): LayerNorm((768,), eps=1e-05, elementwise_affine=True)\n",
       "        (mlp): GPT2MLP(\n",
       "          (c_fc): Conv1D()\n",
       "          (c_proj): Conv1D()\n",
       "          (act): NewGELUActivation()\n",
       "          (dropout): Dropout(p=0.1, inplace=False)\n",
       "        )\n",
       "      )\n",
       "    )\n",
       "    (ln_f): LayerNorm((768,), eps=1e-05, elementwise_affine=True)\n",
       "  )\n",
       "  (score): Linear(in_features=768, out_features=30001, bias=False)\n",
       ")"
      ]
     },
     "execution_count": 4,
     "metadata": {},
     "output_type": "execute_result"
    }
   ],
   "source": [
    "# data_path = Path(\"/home/ajain/ttmp/PBSCSR_data/gpt2/pretrained_model\")\n",
    "data_path = Path(\"/home/jliu/ttmp/PBSCSR/gpt2/pretrained_model\")\n",
    "tokenizer_path = data_path/\"tokenizer.json\"\n",
    "pretrained_output_model_path = data_path\n",
    "\n",
    "# Load Tokenizer\n",
    "tokenizer = AutoTokenizer.from_pretrained(tokenizer_path.parent)\n",
    "config = AutoConfig.from_pretrained(pretrained_output_model_path)\n",
    "config.num_labels = len(tokenizer.vocab)\n",
    "model = AutoModelForSequenceClassification.from_pretrained(pretrained_output_model_path, config=config)\n",
    "\n",
    "tokenizer.pad_token = '<pad>'\n",
    "model.pad_token_id = tokenizer.pad_token_id\n",
    "tokenizer.model_max_length = config.n_positions\n",
    "config.pad_token_id = tokenizer.pad_token_id\n",
    "\n",
    "# Designate GPUs if possible and parallelize (disabled for now)\n",
    "device = torch.device(\"cuda\" if torch.cuda.is_available() else \"cpu\")\n",
    "model.to(device)"
   ]
  },
  {
   "cell_type": "code",
   "execution_count": 5,
   "metadata": {},
   "outputs": [],
   "source": [
    "# Remove last layer\n",
    "new_model = nn.Sequential(*list(model.children())[:-1])"
   ]
  },
  {
   "cell_type": "code",
   "execution_count": 6,
   "metadata": {},
   "outputs": [
    {
     "data": {
      "application/vnd.jupyter.widget-view+json": {
       "model_id": "7e2374adcd784e988e39f8ae003db4a2",
       "version_major": 2,
       "version_minor": 0
      },
      "text/plain": [
       "  0%|          | 0/875 [00:00<?, ?it/s]"
      ]
     },
     "metadata": {},
     "output_type": "display_data"
    },
    {
     "data": {
      "application/vnd.jupyter.widget-view+json": {
       "model_id": "3c39fa111e0f452aaf8dd31d670cd973",
       "version_major": 2,
       "version_minor": 0
      },
      "text/plain": [
       "  0%|          | 0/188 [00:00<?, ?it/s]"
      ]
     },
     "metadata": {},
     "output_type": "display_data"
    },
    {
     "data": {
      "application/vnd.jupyter.widget-view+json": {
       "model_id": "02b83d4afa994bbd88b62a2007f3be79",
       "version_major": 2,
       "version_minor": 0
      },
      "text/plain": [
       "  0%|          | 0/2188 [00:00<?, ?it/s]"
      ]
     },
     "metadata": {},
     "output_type": "display_data"
    },
    {
     "data": {
      "application/vnd.jupyter.widget-view+json": {
       "model_id": "3a5c6a27e3e749fe97f9d20a86a4bfdc",
       "version_major": 2,
       "version_minor": 0
      },
      "text/plain": [
       "  0%|          | 0/469 [00:00<?, ?it/s]"
      ]
     },
     "metadata": {},
     "output_type": "display_data"
    }
   ],
   "source": [
    "data_path = Path(\"/home/jliu/ttmp/PBSCSR/baselines\")\n",
    "fewshot_vecs = data_path/\"fewshot_vecs\"\n",
    "fewshot_vecs.mkdir(exist_ok=True)\n",
    "\n",
    "gpt2_train_vecs9 = LM_extract(x_train9, new_model, tokenizer, device)\n",
    "gpt2_test_vecs9 = LM_extract(x_test9, new_model, tokenizer, device)\n",
    "gpt2_train_vecs100 = LM_extract(x_train100, new_model, tokenizer, device)\n",
    "gpt2_test_vecs100 = LM_extract(x_test100, new_model, tokenizer, device)\n",
    "\n",
    "\n",
    "np.save(\"fewshot_vecs/gpt2_train9.npy\", gpt2_train_vecs9)\n",
    "np.save(\"fewshot_vecs/gpt2_test9.npy\", gpt2_test_vecs9)\n",
    "np.save(\"fewshot_vecs/gpt2_train100.npy\", gpt2_train_vecs100)\n",
    "np.save(\"fewshot_vecs/gpt2_test100.npy\", gpt2_test_vecs100)"
   ]
  },
  {
   "cell_type": "markdown",
   "metadata": {},
   "source": [
    "## Roberta Extraction"
   ]
  },
  {
   "cell_type": "code",
   "execution_count": 7,
   "metadata": {},
   "outputs": [
    {
     "name": "stderr",
     "output_type": "stream",
     "text": [
      "Some weights of RobertaForSequenceClassification were not initialized from the model checkpoint at /home/jliu/ttmp/PBSCSR/roberta/pretrained_model and are newly initialized: ['classifier.out_proj.weight', 'classifier.dense.weight', 'classifier.dense.bias', 'classifier.out_proj.bias']\n",
      "You should probably TRAIN this model on a down-stream task to be able to use it for predictions and inference.\n"
     ]
    },
    {
     "data": {
      "text/plain": [
       "RobertaForSequenceClassification(\n",
       "  (roberta): RobertaModel(\n",
       "    (embeddings): RobertaEmbeddings(\n",
       "      (word_embeddings): Embedding(30003, 768, padding_idx=1)\n",
       "      (position_embeddings): Embedding(1026, 768, padding_idx=1)\n",
       "      (token_type_embeddings): Embedding(2, 768)\n",
       "      (LayerNorm): LayerNorm((768,), eps=1e-12, elementwise_affine=True)\n",
       "      (dropout): Dropout(p=0.1, inplace=False)\n",
       "    )\n",
       "    (encoder): RobertaEncoder(\n",
       "      (layer): ModuleList(\n",
       "        (0-5): 6 x RobertaLayer(\n",
       "          (attention): RobertaAttention(\n",
       "            (self): RobertaSelfAttention(\n",
       "              (query): Linear(in_features=768, out_features=768, bias=True)\n",
       "              (key): Linear(in_features=768, out_features=768, bias=True)\n",
       "              (value): Linear(in_features=768, out_features=768, bias=True)\n",
       "              (dropout): Dropout(p=0.1, inplace=False)\n",
       "            )\n",
       "            (output): RobertaSelfOutput(\n",
       "              (dense): Linear(in_features=768, out_features=768, bias=True)\n",
       "              (LayerNorm): LayerNorm((768,), eps=1e-12, elementwise_affine=True)\n",
       "              (dropout): Dropout(p=0.1, inplace=False)\n",
       "            )\n",
       "          )\n",
       "          (intermediate): RobertaIntermediate(\n",
       "            (dense): Linear(in_features=768, out_features=3072, bias=True)\n",
       "            (intermediate_act_fn): GELUActivation()\n",
       "          )\n",
       "          (output): RobertaOutput(\n",
       "            (dense): Linear(in_features=3072, out_features=768, bias=True)\n",
       "            (LayerNorm): LayerNorm((768,), eps=1e-12, elementwise_affine=True)\n",
       "            (dropout): Dropout(p=0.1, inplace=False)\n",
       "          )\n",
       "        )\n",
       "      )\n",
       "    )\n",
       "  )\n",
       "  (classifier): RobertaClassificationHead(\n",
       "    (dense): Linear(in_features=768, out_features=768, bias=True)\n",
       "    (dropout): Dropout(p=0.1, inplace=False)\n",
       "    (out_proj): Linear(in_features=768, out_features=30003, bias=True)\n",
       "  )\n",
       ")"
      ]
     },
     "execution_count": 7,
     "metadata": {},
     "output_type": "execute_result"
    }
   ],
   "source": [
    "# data_path = Path(\"roberta/models/pretrained_models\")\n",
    "# tokenizer_path = data_path/\"tokenizer.json\"\n",
    "# pretrained_output_model_path = data_path\n",
    "\n",
    "data_path = Path(\"/home/jliu/ttmp/PBSCSR/roberta/pretrained_model\")\n",
    "tokenizer_path = data_path/\"tokenizer.json\"\n",
    "pretrained_output_model_path = data_path\n",
    "\n",
    "# Load Tokenizer\n",
    "tokenizer = AutoTokenizer.from_pretrained(tokenizer_path.parent)\n",
    "config = AutoConfig.from_pretrained(pretrained_output_model_path)\n",
    "config.num_labels = len(tokenizer.vocab)\n",
    "model = AutoModelForSequenceClassification.from_pretrained(pretrained_output_model_path, config=config)\n",
    "\n",
    "tokenizer.pad_token = '<pad>'\n",
    "model.pad_token_id = tokenizer.pad_token_id\n",
    "# tokenizer.model_max_length = config.n_positions\n",
    "config.pad_token_id = tokenizer.pad_token_id\n",
    "\n",
    "# Designate GPUs if possible and parallelize (disabled for now)\n",
    "device = torch.device(\"cuda\" if torch.cuda.is_available() else \"cpu\")\n",
    "model.to(device)"
   ]
  },
  {
   "cell_type": "code",
   "execution_count": 8,
   "metadata": {},
   "outputs": [],
   "source": [
    "# Remove last layer\n",
    "new_model = nn.Sequential(*list(model.children())[:-1])"
   ]
  },
  {
   "cell_type": "code",
   "execution_count": 9,
   "metadata": {},
   "outputs": [
    {
     "data": {
      "application/vnd.jupyter.widget-view+json": {
       "model_id": "38a0bd192eb74336a132cce08464e0d4",
       "version_major": 2,
       "version_minor": 0
      },
      "text/plain": [
       "  0%|          | 0/875 [00:00<?, ?it/s]"
      ]
     },
     "metadata": {},
     "output_type": "display_data"
    },
    {
     "data": {
      "application/vnd.jupyter.widget-view+json": {
       "model_id": "d8af3148358b48aa892897ebeaa1a3fd",
       "version_major": 2,
       "version_minor": 0
      },
      "text/plain": [
       "  0%|          | 0/188 [00:00<?, ?it/s]"
      ]
     },
     "metadata": {},
     "output_type": "display_data"
    },
    {
     "data": {
      "application/vnd.jupyter.widget-view+json": {
       "model_id": "424c748146a146cf9d343eaf6b5b075a",
       "version_major": 2,
       "version_minor": 0
      },
      "text/plain": [
       "  0%|          | 0/2188 [00:00<?, ?it/s]"
      ]
     },
     "metadata": {},
     "output_type": "display_data"
    },
    {
     "data": {
      "application/vnd.jupyter.widget-view+json": {
       "model_id": "645e9c71ce6444408b16fbe191a14621",
       "version_major": 2,
       "version_minor": 0
      },
      "text/plain": [
       "  0%|          | 0/469 [00:00<?, ?it/s]"
      ]
     },
     "metadata": {},
     "output_type": "display_data"
    }
   ],
   "source": [
    "roberta_train_vecs9 = LM_extract(x_train9, new_model, tokenizer, device)\n",
    "roberta_test_vecs9 = LM_extract(x_test9, new_model, tokenizer, device)\n",
    "roberta_train_vecs100 = LM_extract(x_train100, new_model, tokenizer, device)\n",
    "roberta_test_vecs100 = LM_extract(x_test100, new_model, tokenizer, device)\n",
    "\n",
    "np.save(\"fewshot_vecs/roberta_train9.npy\", roberta_train_vecs9)\n",
    "np.save(\"fewshot_vecs/roberta_test9.npy\", roberta_test_vecs9)\n",
    "np.save(\"fewshot_vecs/roberta_train100.npy\", roberta_train_vecs100)\n",
    "np.save(\"fewshot_vecs/roberta_test100.npy\", roberta_test_vecs100)"
   ]
  },
  {
   "cell_type": "code",
   "execution_count": 10,
   "metadata": {},
   "outputs": [
    {
     "name": "stdout",
     "output_type": "stream",
     "text": [
      "(70000, 768)\n"
     ]
    }
   ],
   "source": [
    "print(roberta_train_vecs100.shape)"
   ]
  },
  {
   "cell_type": "code",
   "execution_count": 11,
   "metadata": {},
   "outputs": [],
   "source": [
    "d = 768\n",
    "\n",
    "np.save(\"fewshot_vecs/random_train9.npy\", np.random.normal(size=(len(x_train9), d)).astype(np.float32))\n",
    "np.save(\"fewshot_vecs/random_test9.npy\", np.random.normal(size=(len(x_test9), d)).astype(np.float32))\n",
    "\n",
    "np.save(\"fewshot_vecs/random_train100.npy\", np.random.normal(size=(len(x_train100), d)).astype(np.float32))\n",
    "np.save(\"fewshot_vecs/random_test100.npy\", np.random.normal(size=(len(x_test100), d)).astype(np.float32))"
   ]
  },
  {
   "cell_type": "code",
   "execution_count": null,
   "metadata": {},
   "outputs": [],
   "source": []
  }
 ],
 "metadata": {
  "kernelspec": {
   "display_name": "baselines",
   "language": "python",
   "name": "baselines"
  },
  "language_info": {
   "codemirror_mode": {
    "name": "ipython",
    "version": 3
   },
   "file_extension": ".py",
   "mimetype": "text/x-python",
   "name": "python",
   "nbconvert_exporter": "python",
   "pygments_lexer": "ipython3",
   "version": "3.11.5"
  }
 },
 "nbformat": 4,
 "nbformat_minor": 4
}
