{
 "cells": [
  {
   "cell_type": "code",
   "execution_count": 1,
   "metadata": {},
   "outputs": [],
   "source": [
    "import pickle\n",
    "import torch\n",
    "import numpy as np\n",
    "import matplotlib.pyplot as plt"
   ]
  },
  {
   "cell_type": "code",
   "execution_count": 2,
   "metadata": {},
   "outputs": [],
   "source": [
    "results = {1: {'Random': {'top1': 0.11053362240393956, 'top5': 0.5540674070517222, 'mrr': 0.313596052924792}, 'GPT2': {'top1': 0.14863679284850756, 'top5': 0.6113387783368428, 'mrr': 0.3536674251159032}},\n",
    "10: {'Random': {'top1': 0.11232161720593771, 'top5': 0.5553334454695383, 'mrr': 0.31528549989064536}, 'GPT2': {'top1': 0.19394191751877468, 'top5': 0.6798434138298035, 'mrr': 0.4013139992952347}},\n",
    "100: {'Random': {'top1': 0.110750179986159, 'top5': 0.5560719708601634, 'mrr': 0.31409805119037626}, 'GPT2': {'top1': 0.24603809267282487, 'top5': 0.701660277446111, 'mrr': 0.4442773014307022}},}"
   ]
  },
  {
   "cell_type": "code",
   "execution_count": 11,
   "metadata": {},
   "outputs": [
    {
     "data": {
      "image/png": "[encoded data removed]",
      "text/plain": [
       "<Figure size 640x480 with 1 Axes>"
      ]
     },
     "metadata": {},
     "output_type": "display_data"
    }
   ],
   "source": [
    "import matplotlib.pyplot as plt\n",
    "\n",
    "x = np.arange(3)\n",
    "\n",
    "y = np.array([results[10**i][\"Random\"][\"top5\"] for i in x])\n",
    "z = np.array([results[10**i][\"GPT2\"][\"top5\"] for i in x])\n",
    "\n",
    "ax = plt.subplot(111)\n",
    "ax.bar(x-0.1, y, width=0.2, color='b', align='center', label=\"Random\")\n",
    "ax.bar(x+.1, z, width=0.2, color='g', align='center', label=\"GPT2\")\n",
    "\n",
    "plt.xticks(np.arange(3), [1, 10, 100])\n",
    "plt.legend()\n",
    "plt.xlabel(\"N\")\n",
    "plt.ylabel(\"Top 5 Accuracy\")\n",
    "\n",
    "plt.title(\"Top 5 Accuracy With Different N\")\n",
    "# plt.savefig(\"fewshot.png\")\n",
    "plt.show()"
   ]
  },
  {
   "cell_type": "code",
   "execution_count": 5,
   "metadata": {},
   "outputs": [],
   "source": [
    "ways = 9\n",
    "\n",
    "# Extract and open datasets\n",
    "\n",
    "import zipfile\n",
    "with zipfile.ZipFile(f\"../{ways}_way_dataset.zip\", 'r') as f:\n",
    "    f.extractall()\n",
    "\n",
    "with open(f\"{ways}_way_dataset.pkl\", \"rb\") as f:\n",
    "    x_train, y_train, x_valid, y_valid, x_test, y_test, m_train, m_valid, m_test = pickle.load(f)\n",
    "\n",
    "composers = np.unique(y_train)\n",
    "y_train = np.stack(y_train)\n",
    "y_test = np.stack(y_test)"
   ]
  },
  {
   "cell_type": "code",
   "execution_count": 6,
   "metadata": {},
   "outputs": [],
   "source": [
    "def sample_data(N=10):\n",
    "    composer_pieces = {composer:np.argwhere(y_train == composer).flatten() for composer in composers}\n",
    "    indices = np.concatenate([np.random.choice(piece_indices, size=(N,), replace=False) for piece_indices in composer_pieces.values()])\n",
    "\n",
    "    return indices"
   ]
  },
  {
   "cell_type": "code",
   "execution_count": 7,
   "metadata": {},
   "outputs": [],
   "source": [
    "import pandas as pd\n",
    "\n",
    "# Helper func\n",
    "def expand_repeat(arr, repeats, axis=0):\n",
    "    return np.repeat(np.expand_dims(arr, axis=axis), repeats, axis=axis)\n",
    "\n",
    "def fit_and_predict(train, test, indices, k=3): # Function to take x_few and y_few and make guesses about all the x_test samples\n",
    "\n",
    "    few_features = train[indices]# extractor(x_few, test=False) # L x d (where L is N*#composers)\n",
    "    test_features = test# extractor(x_test, test=True)# M x d (This should retreive cached values)\n",
    "\n",
    "    # Want to end with M x L vector\n",
    "\n",
    "    euclideans = np.sqrt(np.sum(np.square(expand_repeat(few_features, len(x_test), 0) - expand_repeat(test_features, len(indices), 1)), axis=-1))\n",
    "\n",
    "    avg_euclideans = np.zeros((len(x_test), ways))\n",
    "\n",
    "    for i, composer in enumerate(composers):\n",
    "        composer_points = np.argwhere(y_train[indices] == composer).flatten()\n",
    "\n",
    "        avg_euclideans[:, i] = np.mean(np.sort(euclideans[:, composer_points], axis=-1)[..., :k], axis=-1)\n",
    "        # avg_euclideans[:, i] = np.mean(euclideans[:, composer_points], axis=-1)\n",
    "\n",
    "    ranks = np.argsort(avg_euclideans, axis=-1)\n",
    "\n",
    "    return ranks"
   ]
  },
  {
   "cell_type": "code",
   "execution_count": 8,
   "metadata": {},
   "outputs": [],
   "source": [
    "def top_x_acc(y_true, y_pred, x):\n",
    "    y_true = torch.Tensor(y_true)\n",
    "    y_pred = torch.Tensor(y_pred)\n",
    "    # ranked = torch.argsort(y_pred, axis=-1)\n",
    "    top_x = y_pred[..., :x]\n",
    "    # print(ranked.shape)\n",
    "    return (top_x == torch.repeat_interleave(y_true.unsqueeze(-1), x, axis=-1)).float().sum(-1).mean().item()\n",
    "\n",
    "def mean_recip_rank(y_true, y_pred):\n",
    "    y_true = torch.Tensor(y_true)\n",
    "    y_pred = torch.Tensor(y_pred)\n",
    "    # ranked = torch.argsort(y_pred, axis=-1)\n",
    "    \n",
    "    # print(ranked.shape, torch.repeat_interleave(y_true.unsqueeze(-1), y_true.shape[-1], axis=-1).shape)\n",
    "\n",
    "    # starts with worst at 0 but we want best at 1 so\n",
    "    true_ranks = (y_pred == torch.repeat_interleave(y_true.unsqueeze(-1), y_pred.shape[-1], axis=-1)).float().argmax(-1) + 1\n",
    "\n",
    "    return (1/true_ranks).mean().item()"
   ]
  },
  {
   "cell_type": "code",
   "execution_count": 22,
   "metadata": {},
   "outputs": [
    {
     "name": "stdout",
     "output_type": "stream",
     "text": [
      "\n",
      "N: 1\n",
      "\n",
      "Model: Random\n"
     ]
    },
    {
     "name": "stderr",
     "output_type": "stream",
     "text": []
    },
    {
     "name": "stderr",
     "output_type": "stream",
     "text": [
      "100%|██████████| 30/30 [00:07<00:00,  4.05it/s]\n"
     ]
    },
    {
     "name": "stdout",
     "output_type": "stream",
     "text": [
      "Model: GPT2\n"
     ]
    },
    {
     "name": "stderr",
     "output_type": "stream",
     "text": [
      "100%|██████████| 30/30 [00:07<00:00,  4.03it/s]\n"
     ]
    },
    {
     "name": "stdout",
     "output_type": "stream",
     "text": [
      "\n",
      "N: 10\n",
      "\n",
      "Model: Random\n"
     ]
    },
    {
     "name": "stderr",
     "output_type": "stream",
     "text": [
      "100%|██████████| 30/30 [01:04<00:00,  2.16s/it]\n"
     ]
    },
    {
     "name": "stdout",
     "output_type": "stream",
     "text": [
      "Model: GPT2\n"
     ]
    },
    {
     "name": "stderr",
     "output_type": "stream",
     "text": [
      "100%|██████████| 30/30 [01:06<00:00,  2.22s/it]\n"
     ]
    },
    {
     "name": "stdout",
     "output_type": "stream",
     "text": [
      "\n",
      "N: 100\n",
      "\n",
      "Model: Random\n"
     ]
    },
    {
     "name": "stderr",
     "output_type": "stream",
     "text": [
      "100%|██████████| 30/30 [11:56<00:00, 23.89s/it]\n"
     ]
    },
    {
     "name": "stdout",
     "output_type": "stream",
     "text": [
      "Model: GPT2\n"
     ]
    },
    {
     "name": "stderr",
     "output_type": "stream",
     "text": [
      "100%|██████████| 30/30 [11:40<00:00, 23.35s/it]\n"
     ]
    }
   ],
   "source": [
    "from tqdm.autonotebook import tqdm\n",
    "\n",
    "T = 30\n",
    "\n",
    "\n",
    "def random_extractor(x, test=False): # function to get extracted features from data\n",
    "    d = 5\n",
    "    return np.random.normal(size=(len(x), d))\n",
    "\n",
    "\n",
    "models = {\"Random\":(\"random_train_vecs.npy\", \"random_test_vecs.npy\"), \"GPT2\":(\"gpt2_train_vecs.npy\", \"gpt2_test_vecs.npy\")} # gpt2_extract defined later.  Go run that first\n",
    "Ns = [1, 10, 100]\n",
    "\n",
    "results = {}\n",
    "\n",
    "for N in Ns:\n",
    "    results[N] = {}\n",
    "    print()\n",
    "    print(f\"N: {N}\")\n",
    "    print()\n",
    "\n",
    "    for model_name, files in models.items():\n",
    "        train_file, test_file = files\n",
    "        train, test = np.load(train_file), np.load(test_file)\n",
    "\n",
    "        print(f\"Model: {model_name}\")\n",
    "\n",
    "        top1s = []\n",
    "        top5s = []\n",
    "        mrrs = []\n",
    "\n",
    "        for _ in tqdm(range(T)):\n",
    "            indices = sample_data(N=N)\n",
    "\n",
    "            y_pred = fit_and_predict(train, test, indices)\n",
    "            y_true = np.array([list(composers).index(i) for i in y_test])\n",
    "\n",
    "            top1 = top_x_acc(y_true, y_pred, 1)\n",
    "            top5 = top_x_acc(y_true, y_pred, 5)\n",
    "            mrr = mean_recip_rank(y_true, y_pred)\n",
    "\n",
    "            top1s.append(top1)\n",
    "            top5s.append(top5)\n",
    "            mrrs.append(mrr)\n",
    "\n",
    "        results[N][model_name] = {\"top1\":np.mean(top1s), \"top5\":np.mean(top5s), \"mrr\":np.mean(mrrs)}"
   ]
  },
  {
   "cell_type": "code",
   "execution_count": null,
   "metadata": {},
   "outputs": [],
   "source": []
  },
  {
   "cell_type": "code",
   "execution_count": null,
   "metadata": {},
   "outputs": [],
   "source": []
  },
  {
   "cell_type": "code",
   "execution_count": null,
   "metadata": {},
   "outputs": [],
   "source": []
  },
  {
   "cell_type": "code",
   "execution_count": null,
   "metadata": {},
   "outputs": [],
   "source": []
  },
  {
   "cell_type": "code",
   "execution_count": null,
   "metadata": {},
   "outputs": [],
   "source": []
  },
  {
   "cell_type": "code",
   "execution_count": 27,
   "metadata": {},
   "outputs": [
    {
     "name": "stdout",
     "output_type": "stream",
     "text": [
      "1 {'Random': {'top1': 0.11043922553459803, 'top5': 0.5555666605631511, 'mrr': 0.3140404452880224}, 'GPT2': {'top1': 0.14830362672607103, 'top5': 0.6211005628108979, 'mrr': 0.35541171630223595}}\n",
      "10 {'Random': {'top1': 0.11065578361352285, 'top5': 0.5549614131450653, 'mrr': 0.3140551924705505}, 'GPT2': {'top1': 0.19906157950560252, 'top5': 0.6917874336242675, 'mrr': 0.408221701780955}}\n",
      "100 {'Random': {'top1': 0.11018934994935989, 'top5': 0.5551557580629984, 'mrr': 0.31349858542283376}, 'GPT2': {'top1': 0.23849741816520692, 'top5': 0.7456327398618062, 'mrr': 0.4489776700735092}}\n"
     ]
    }
   ],
   "source": [
    "for N in Ns:\n",
    "    print(N, results[N])"
   ]
  },
  {
   "cell_type": "code",
   "execution_count": 52,
   "metadata": {},
   "outputs": [
    {
     "name": "stdout",
     "output_type": "stream",
     "text": [
      "(27999, 768) (6003, 768)\n",
      "float64 float64\n"
     ]
    }
   ],
   "source": [
    "train_file, test_file = (\"random_train_vecs.npy\", \"random_test_vecs.npy\")\n",
    "train, test = np.load(train_file), np.load(test_file)\n",
    "\n",
    "print(train.shape, test.shape)\n",
    "print(train.dtype, test.dtype)"
   ]
  },
  {
   "cell_type": "code",
   "execution_count": 53,
   "metadata": {},
   "outputs": [
    {
     "name": "stdout",
     "output_type": "stream",
     "text": [
      "(27999, 768) (6003, 768)\n",
      "float32 float32\n"
     ]
    }
   ],
   "source": [
    "train_file, test_file = (\"gpt2_train_vecs.npy\", \"gpt2_test_vecs.npy\")\n",
    "train, test = np.load(train_file), np.load(test_file)\n",
    "\n",
    "print(train.shape, test.shape)\n",
    "print(train.dtype, test.dtype)"
   ]
  },
  {
   "cell_type": "code",
   "execution_count": 16,
   "metadata": {},
   "outputs": [],
   "source": [
    "from pathlib import Path\n",
    "import encoders\n",
    "import json\n",
    "import sys\n",
    "import torch\n",
    "import evaluate\n",
    "import transformers\n",
    "import numpy as np\n",
    "import pandas as pd\n",
    "import pickle\n",
    "\n",
    "from pathlib import Path\n",
    "from tqdm.auto import tqdm\n",
    "from datasets import Dataset\n",
    "from transformers import AutoConfig, \\\n",
    "    DataCollatorWithPadding, AutoModelForSequenceClassification, \\\n",
    "    Trainer, TrainingArguments, AutoTokenizer"
   ]
  },
  {
   "cell_type": "code",
   "execution_count": 17,
   "metadata": {},
   "outputs": [
    {
     "name": "stderr",
     "output_type": "stream",
     "text": [
      "Some weights of GPT2ForSequenceClassification were not initialized from the model checkpoint at /home/ajain/ttmp/PBSCSR_data/gpt2/pretrained_model and are newly initialized: ['score.weight']\n",
      "You should probably TRAIN this model on a down-stream task to be able to use it for predictions and inference.\n",
      "Map: 100%|██████████| 27999/27999 [00:10<00:00, 2634.93 examples/s]\n",
      "Map: 100%|██████████| 6003/6003 [00:02<00:00, 2713.52 examples/s]\n",
      "Map: 100%|██████████| 27999/27999 [00:00<00:00, 100036.13 examples/s]\n",
      "Map: 100%|██████████| 6003/6003 [00:00<00:00, 81139.79 examples/s]\n",
      "Map: 100%|██████████| 6003/6003 [00:02<00:00, 2749.90 examples/s]\n",
      "Map: 100%|██████████| 6003/6003 [00:00<00:00, 82300.13 examples/s]\n"
     ]
    },
    {
     "data": {
      "text/plain": [
       "GPT2ForSequenceClassification(\n",
       "  (transformer): GPT2Model(\n",
       "    (wte): Embedding(30001, 768)\n",
       "    (wpe): Embedding(1024, 768)\n",
       "    (drop): Dropout(p=0.1, inplace=False)\n",
       "    (h): ModuleList(\n",
       "      (0-5): 6 x GPT2Block(\n",
       "        (ln_1): LayerNorm((768,), eps=1e-05, elementwise_affine=True)\n",
       "        (attn): GPT2Attention(\n",
       "          (c_attn): Conv1D()\n",
       "          (c_proj): Conv1D()\n",
       "          (attn_dropout): Dropout(p=0.1, inplace=False)\n",
       "          (resid_dropout): Dropout(p=0.1, inplace=False)\n",
       "        )\n",
       "        (ln_2): LayerNorm((768,), eps=1e-05, elementwise_affine=True)\n",
       "        (mlp): GPT2MLP(\n",
       "          (c_fc): Conv1D()\n",
       "          (c_proj): Conv1D()\n",
       "          (act): NewGELUActivation()\n",
       "          (dropout): Dropout(p=0.1, inplace=False)\n",
       "        )\n",
       "      )\n",
       "    )\n",
       "    (ln_f): LayerNorm((768,), eps=1e-05, elementwise_affine=True)\n",
       "  )\n",
       "  (score): Linear(in_features=768, out_features=9, bias=False)\n",
       ")"
      ]
     },
     "execution_count": 17,
     "metadata": {},
     "output_type": "execute_result"
    }
   ],
   "source": [
    "# Classifier Finetuning\n",
    "data_path = Path(\"/home/ajain/ttmp/PBSCSR_data/gpt2/\")\n",
    "\n",
    "enc_name = \"dense_1_8\"\n",
    "    \n",
    "tokenizer_path = data_path/\"pretrained_model\"/\"tokenizer.json\"  \n",
    "\n",
    "load_pretrained_weights = True\n",
    "'''Whether to load pretrained weights: bool'''\n",
    "pretrained_output_model_path = data_path/\"pretrained_model\"\n",
    "'''Location of the pretrained weights'''\n",
    "\n",
    "def data_preparation():\n",
    "    \"\"\"Prepare data for training, validation, and testing.\n",
    "    \n",
    "    Returns\n",
    "    -------\n",
    "    train_df : pd.DataFrame\n",
    "        Training data with 2 columns, \"text\" and \"label\".\n",
    "    val_df : pd.DataFrame\n",
    "        Validation data with 2 columns, \"text\" and \"label\".\n",
    "    test_df : pd.DataFrame\n",
    "        Testing data with 2 columns, \"text\" and \"label\".\n",
    "    \"\"\"\n",
    "\n",
    "    with open(\"/home/abunn/ttmp/ExplorationWithLLMs/source/03_alec_temp_name/finetuning_data/dense_1_8.pkl\", \"rb\") as f:\n",
    "        x_train, y_train, x_valid, y_valid, x_test, y_test = pickle.load(f)\n",
    "\n",
    "    train_df = pd.DataFrame({\"text\":x_train, \"label\":y_train})\n",
    "    valid_df = pd.DataFrame({\"text\":x_valid, \"label\":y_valid})\n",
    "    test_df = pd.DataFrame({\"text\":x_test, \"label\":y_test})\n",
    "    \n",
    "    return train_df, valid_df, test_df\n",
    "\n",
    "    \n",
    "def tokenizer_function(examples):\n",
    "    return tokenizer(examples[\"text\"], padding='max_length', truncation=True)\n",
    "\n",
    "def label2id_function(examples):\n",
    "    return {\"label\": [label2id[label] for label in examples[\"label\"]]}\n",
    "\n",
    "# Prepare data\n",
    "train_df, val_df, test_df = data_preparation()\n",
    "train_ds = Dataset.from_dict(train_df)\n",
    "val_ds = Dataset.from_dict(val_df)\n",
    "test_ds = Dataset.from_dict(test_df)\n",
    "\n",
    "# Define label map\n",
    "label2id = {label: i for i, label in enumerate(set(train_df['label']))}\n",
    "id2label = {i: label for label, i in label2id.items()}\n",
    "\n",
    "# Load Tokenizer\n",
    "tokenizer = AutoTokenizer.from_pretrained(tokenizer_path.parent)\n",
    "config = AutoConfig.from_pretrained(pretrained_output_model_path)\n",
    "config.num_labels = len(label2id)\n",
    "model = AutoModelForSequenceClassification.from_pretrained(pretrained_output_model_path, config=config)\n",
    "    \n",
    "tokenizer.pad_token = '<pad>'\n",
    "model.pad_token_id = tokenizer.pad_token_id\n",
    "tokenizer.model_max_length = config.n_positions\n",
    "config.pad_token_id = tokenizer.pad_token_id\n",
    "\n",
    "# Tokenize and convert labels to ids\n",
    "train_ds = train_ds.map(tokenizer_function, batched=True)\n",
    "val_ds = val_ds.map(tokenizer_function, batched=True)\n",
    "train_ds = train_ds.map(label2id_function, batched=True)\n",
    "val_ds = val_ds.map(label2id_function, batched=True)\n",
    "test_ds = test_ds.map(tokenizer_function, batched=True)\n",
    "test_ds = test_ds.map(label2id_function, batched=True)\n",
    "\n",
    "ds_list = [train_ds, val_ds, test_ds]\n",
    "ds_list = [ds.remove_columns([\"text\"]) for ds in ds_list]\n",
    "ds_list = [ds.rename_column(\"label\", \"labels\") for ds in ds_list]\n",
    "[ds.set_format(\"torch\") for ds in ds_list]\n",
    "\n",
    "# Designate GPUs if possible and parallelize (disabled for now)\n",
    "device = torch.device(\"cuda\" if torch.cuda.is_available() else \"cpu\")\n",
    "model.to(device)"
   ]
  },
  {
   "cell_type": "code",
   "execution_count": 18,
   "metadata": {},
   "outputs": [
    {
     "name": "stdout",
     "output_type": "stream",
     "text": [
      "Sequential(\n",
      "  (0): GPT2Model(\n",
      "    (wte): Embedding(30001, 768)\n",
      "    (wpe): Embedding(1024, 768)\n",
      "    (drop): Dropout(p=0.1, inplace=False)\n",
      "    (h): ModuleList(\n",
      "      (0-5): 6 x GPT2Block(\n",
      "        (ln_1): LayerNorm((768,), eps=1e-05, elementwise_affine=True)\n",
      "        (attn): GPT2Attention(\n",
      "          (c_attn): Conv1D()\n",
      "          (c_proj): Conv1D()\n",
      "          (attn_dropout): Dropout(p=0.1, inplace=False)\n",
      "          (resid_dropout): Dropout(p=0.1, inplace=False)\n",
      "        )\n",
      "        (ln_2): LayerNorm((768,), eps=1e-05, elementwise_affine=True)\n",
      "        (mlp): GPT2MLP(\n",
      "          (c_fc): Conv1D()\n",
      "          (c_proj): Conv1D()\n",
      "          (act): NewGELUActivation()\n",
      "          (dropout): Dropout(p=0.1, inplace=False)\n",
      "        )\n",
      "      )\n",
      "    )\n",
      "    (ln_f): LayerNorm((768,), eps=1e-05, elementwise_affine=True)\n",
      "  )\n",
      ")\n"
     ]
    }
   ],
   "source": [
    "import torch.nn as nn\n",
    "new_model = nn.Sequential(*list(model.children())[:-1])\n",
    "\n",
    "print(new_model)"
   ]
  },
  {
   "cell_type": "code",
   "execution_count": 19,
   "metadata": {},
   "outputs": [],
   "source": [
    "def gpt2_extract(x):\n",
    "    encoded = [encoders.dense_encoder(i, block_size=[1, 8]) for i in x]\n",
    "\n",
    "    tokenized = torch.Tensor([i[:64] for i in tokenizer(encoded)['input_ids']]).to(device).long()\n",
    "    \n",
    "    # Do in batches to ensure no OOM\n",
    "    batch_size = 32\n",
    "\n",
    "    extracted = []\n",
    "    with torch.no_grad():\n",
    "        for i in tqdm(range(0, tokenized.shape[0], batch_size)):\n",
    "            extracted.append(new_model(tokenized[i:i+batch_size])[\"last_hidden_state\"][:, -1])\n",
    "\n",
    "    extracted = torch.cat(extracted, axis=0)\n",
    "\n",
    "    return extracted.cpu().numpy()"
   ]
  },
  {
   "cell_type": "code",
   "execution_count": 20,
   "metadata": {},
   "outputs": [
    {
     "name": "stderr",
     "output_type": "stream",
     "text": [
      "100%|██████████| 188/188 [00:03<00:00, 49.28it/s]\n",
      "100%|██████████| 875/875 [00:13<00:00, 66.49it/s]\n"
     ]
    }
   ],
   "source": [
    "gpt2_test_vecs = gpt2_extract(x_test)\n",
    "gpt2_train_vecs = gpt2_extract(x_train)\n",
    "\n",
    "np.save(\"gpt2_test_vecs.npy\", gpt2_test_vecs)\n",
    "np.save(\"gpt2_train_vecs.npy\", gpt2_train_vecs)"
   ]
  },
  {
   "cell_type": "code",
   "execution_count": 21,
   "metadata": {},
   "outputs": [],
   "source": [
    "np.save(\"random_test_vecs.npy\", np.random.normal(size=gpt2_test_vecs.shape).astype(np.float32))\n",
    "np.save(\"random_train_vecs.npy\", np.random.normal(size=gpt2_train_vecs.shape).astype(np.float32))"
   ]
  },
  {
   "cell_type": "code",
   "execution_count": 34,
   "metadata": {},
   "outputs": [],
   "source": [
    "# np.save(\"gpt2_test_vecs.npy\", gpt2_test_vecs)"
   ]
  },
  {
   "cell_type": "code",
   "execution_count": null,
   "metadata": {},
   "outputs": [],
   "source": [
    "with open(\"gpt2_test_vecs.pkl\", \"wb\") as f:\n",
    "    pickle.dump(gpt2_test_vecs, f)"
   ]
  },
  {
   "cell_type": "code",
   "execution_count": 27,
   "metadata": {},
   "outputs": [
    {
     "name": "stdout",
     "output_type": "stream",
     "text": [
      "(9, 64, 62)\n",
      "(9, 768)\n"
     ]
    }
   ],
   "source": [
    "print(x_train[:9].shape)\n",
    "print(gpt2_extract(x_train[:9]).shape)"
   ]
  },
  {
   "cell_type": "code",
   "execution_count": 171,
   "metadata": {},
   "outputs": [
    {
     "name": "stdout",
     "output_type": "stream",
     "text": [
      "(2, 64, 62)\n"
     ]
    }
   ],
   "source": [
    "print(x_train[:2].shape)"
   ]
  },
  {
   "cell_type": "code",
   "execution_count": null,
   "metadata": {},
   "outputs": [],
   "source": []
  }
 ],
 "metadata": {
  "kernelspec": {
   "display_name": "EWLLMs",
   "language": "python",
   "name": "python3"
  },
  "language_info": {
   "codemirror_mode": {
    "name": "ipython",
    "version": 3
   },
   "file_extension": ".py",
   "mimetype": "text/x-python",
   "name": "python",
   "nbconvert_exporter": "python",
   "pygments_lexer": "ipython3",
   "version": "3.11.5"
  },
  "orig_nbformat": 4
 },
 "nbformat": 4,
 "nbformat_minor": 2
}
