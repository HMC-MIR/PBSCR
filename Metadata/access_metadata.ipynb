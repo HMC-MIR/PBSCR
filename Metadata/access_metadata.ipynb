{
 "cells": [
  {
   "cell_type": "markdown",
   "metadata": {},
   "source": [
    "# Accessing PBSCR Metadata"
   ]
  },
  {
   "cell_type": "code",
   "execution_count": 1,
   "metadata": {},
   "outputs": [],
   "source": [
    "import json"
   ]
  },
  {
   "cell_type": "markdown",
   "metadata": {},
   "source": [
    "## 9-way and 100-way Metadata"
   ]
  },
  {
   "cell_type": "code",
   "execution_count": 3,
   "metadata": {},
   "outputs": [],
   "source": [
    "with open('Metadata/9_way_metadata.json', 'r') as f:\n",
    "    metadata_9 = json.load(f) # 9-way metadata\n",
    "    \n",
    "with open('Metadata/100_way_metadata.json', 'r') as f:\n",
    "    metadata_100 = json.load(f) # 100-way metadata"
   ]
  },
  {
   "cell_type": "code",
   "execution_count": 4,
   "metadata": {},
   "outputs": [
    {
     "data": {
      "text/plain": [
       "{'Composition Year': '1740 ca. in Das wohltemperierte Klavier II (No.5)',\n",
       " 'Genre Categories': 'Preludes; Fugues; For keyboard; Scores featuring keyboard soloists; For 1 player; For 2 pianos (arr); Scores featuring the piano (arr); For 2 players (arr); For organ (arr); For 1 player (arr); Scores featuring the organ (arr); For mixed chorus (arr); Scores featuring mixed chorus (arr); For unaccompanied chorus (arr); For 4 guitars (arr); Scores featuring the guitar (arr); For 4 players (arr)',\n",
       " 'Work Title': 'Prelude and Fugue in D major',\n",
       " 'Name Translations': 'Prélude et fugue en ré majeur (BWV 874)',\n",
       " 'Authorities': 'WorldCat; Wikipedia; VIAF: 311189164; BNF: 14012281s',\n",
       " 'Composer': 'Bach, Johann Sebastian',\n",
       " 'Key': 'D major',\n",
       " 'First Publication.': '1801 or before',\n",
       " 'Piece Style': 'Baroque',\n",
       " 'Instrumentation': 'keyboard',\n",
       " 'Manuscript Sources': 'Bach Digital (source list)',\n",
       " 'External Links': 'Wikipedia article',\n",
       " 'Movements/Sections': '2 movements:\\nPræludium\\nFuga',\n",
       " 'Year/Date of Composition': '1740 ca. in Das wohltemperierte Klavier II (No.5)',\n",
       " 'Opus/Catalogue Number': 'BWV 874\\xa0; BC L 108',\n",
       " 'Composer Time Period': 'Baroque',\n",
       " 'I-Catalogue Number': 'IJB 516',\n",
       " 'PDF_ids': ['02182']}"
      ]
     },
     "execution_count": 4,
     "metadata": {},
     "output_type": "execute_result"
    }
   ],
   "source": [
    "pdf_id = '02182' # id of the piece you want to look up\n",
    "metadata_9[pdf_id] # metadata for the 9-way dataset"
   ]
  },
  {
   "cell_type": "markdown",
   "metadata": {},
   "source": [
    "## All Metadata"
   ]
  },
  {
   "cell_type": "markdown",
   "metadata": {},
   "source": [
    "##### all_metadata.json is indexed first by composer, then piece_name as it is in the bootleg score directory"
   ]
  },
  {
   "cell_type": "code",
   "execution_count": 7,
   "metadata": {},
   "outputs": [],
   "source": [
    "with open('Metadata/all_metadata.json', 'rb') as f:\n",
    "    all_metadata = json.load(f) # metadata file for all piano pieces"
   ]
  },
  {
   "cell_type": "code",
   "execution_count": 10,
   "metadata": {},
   "outputs": [],
   "source": [
    "composer = \"Bach,_Johann_Sebastian\"\n",
    "piece_name = \"9_Kleine_Pr%C3%A4ludien,_BWV_924-932_\"\n",
    "\n",
    "metadata = all_metadata[composer][piece_name]"
   ]
  },
  {
   "cell_type": "code",
   "execution_count": 11,
   "metadata": {},
   "outputs": [
    {
     "data": {
      "text/plain": [
       "{'Composition Year': '1720 from Klavierbüchlein für Wilhelm Friedemann Bach (Nos.2, 4, 8-10, 26-29, 48)',\n",
       " 'Genre Categories': 'Preludes; For keyboard; Scores featuring keyboard soloists; For 1 player; For harp (arr); Scores featuring the harp (arr); For 1 player (arr)',\n",
       " 'Work Title': '9 Kleine Präludien aus dem Klavierbüchlein für Wilhelm Friedemann Bach',\n",
       " 'Alternative. Title': '9 Little Preludes',\n",
       " 'Composer': 'Bach, Johann Sebastian',\n",
       " 'First Publication.': '1843',\n",
       " 'Piece Style': 'Baroque',\n",
       " 'Instrumentation': 'keyboard',\n",
       " 'Manuscript Sources': 'Bach Digital (BWV 924, 926–930)\\xa0; Bach Digital (BWV 924a, 925, 931-932)',\n",
       " 'Extra Information': \"Bach's authorship of Nos.3, 8 and 9 is doubtful (possibly composed by Wilhelm Friedemann Bach). No.6 is not a prelude at all, being inscribed in W.F.B.'s notebook as a Trio composed by J. S. Bach for a g-minor Menuett by Stöltzel.\",\n",
       " 'notice': 'This page is only for complete editions and multiple selections from the collection here. For arrangements, new editions, etc. see (or create) separate pages for individual works linked in the General Information section below.',\n",
       " 'Movements/Sections': '9 preludes:\\n1. Prelude in C major, BWV 924\\n1a. Prelude in C major, BWV 924a (alternative version)\\n2. Prelude in D major, BWV 925\\n3. Prelude in D minor, BWV 926\\n4. Prelude in F major, BWV 927\\n5. Prelude in F major, BWV 928\\n6. Prelude in G minor, BWV 929 (Menuet Trio di J. S. Bach) for the Menuett in the \"Partia di Signore Steltzeln (Stöltzel)\". (W. F. B. Clavierbüchlein)\\n7. Prelude in G minor, BWV 930\\n8. Prelude in A minor, BWV 931\\n9. Prelude in E minor, BWV 932 (incomplete)',\n",
       " 'Year/Date of Composition': '1720 from Klavierbüchlein für Wilhelm Friedemann Bach (Nos.2, 4, 8-10, 26-29, 48)',\n",
       " 'Opus/Catalogue Number': 'BWV 923-932\\xa0; BC L 57–63',\n",
       " 'Composer Time Period': 'Baroque',\n",
       " 'I-Catalogue Number': 'IJB 349',\n",
       " 'PDF_ids': ['62050', '62051']}"
      ]
     },
     "execution_count": 11,
     "metadata": {},
     "output_type": "execute_result"
    }
   ],
   "source": [
    "metadata"
   ]
  },
  {
   "cell_type": "code",
   "execution_count": null,
   "metadata": {},
   "outputs": [],
   "source": []
  }
 ],
 "metadata": {
  "kernelspec": {
   "display_name": "baselines",
   "language": "python",
   "name": "python3"
  },
  "language_info": {
   "codemirror_mode": {
    "name": "ipython",
    "version": 3
   },
   "file_extension": ".py",
   "mimetype": "text/x-python",
   "name": "python",
   "nbconvert_exporter": "python",
   "pygments_lexer": "ipython3",
   "version": "3.10.11"
  }
 },
 "nbformat": 4,
 "nbformat_minor": 2
}
