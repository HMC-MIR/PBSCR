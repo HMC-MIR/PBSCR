{
 "cells": [
  {
   "cell_type": "markdown",
   "metadata": {},
   "source": [
    "# Accessing PBSCSR Metadata"
   ]
  },
  {
   "cell_type": "code",
   "execution_count": 1,
   "metadata": {},
   "outputs": [],
   "source": [
    "import pickle"
   ]
  },
  {
   "cell_type": "markdown",
   "metadata": {},
   "source": [
    "## 9-way and 100-way Metadata"
   ]
  },
  {
   "cell_type": "code",
   "execution_count": 10,
   "metadata": {},
   "outputs": [],
   "source": [
    "with open('../Metadata/9_way_metadata.pkl', 'rb') as f:\n",
    "    metadata_9 = pickle.load(f) # 9-way metadata\n",
    "    \n",
    "with open('../Metadata/100_way_metadata.pkl', 'rb') as f:\n",
    "    metadata_100 = pickle.load(f) # 100-way metadata"
   ]
  },
  {
   "cell_type": "code",
   "execution_count": 11,
   "metadata": {},
   "outputs": [
    {
     "data": {
      "text/plain": [
       "{'Work Title': 'Prelude and Fugue in D major',\n",
       " 'Name Translations': 'Prélude et fugue en ré majeur (BWV 874)',\n",
       " 'Authorities': 'WorldCat\\n;\\nWikipedia\\n;\\nVIAF\\n:\\n311189164\\n;\\nBNF\\n:\\n14012281s',\n",
       " 'Composer': 'Bach, Johann Sebastian',\n",
       " 'Opus/Catalogue Number': 'BWV 874\\xa0; BC L 108',\n",
       " 'I-Catalogue Number': 'IJB 516',\n",
       " 'Key': 'D major',\n",
       " 'Movements/Sections': '2 movements:\\nPræludium\\nFuga',\n",
       " 'Year/Date of Composition': '1740 ca. in\\nDas wohltemperierte Klavier II\\n(No.5)',\n",
       " 'Composer Time Period': 'Baroque',\n",
       " 'Piece Style': 'Baroque',\n",
       " 'Instrumentation': 'Piano',\n",
       " 'url': 'https://imslp.org/wiki/Prelude_and_Fugue_in_D_major,_BWV_874_(Bach,_Johann_Sebastian)',\n",
       " 'Alternative Title': '',\n",
       " 'First Publication': '.\\n1801 or before'}"
      ]
     },
     "execution_count": 11,
     "metadata": {},
     "output_type": "execute_result"
    }
   ],
   "source": [
    "pdf_id = '02182' # id of the piece you want to look up\n",
    "metadata_9[pdf_id] # metadata for the 9-way dataset"
   ]
  },
  {
   "cell_type": "markdown",
   "metadata": {},
   "source": [
    "## All Metadata"
   ]
  },
  {
   "cell_type": "code",
   "execution_count": 2,
   "metadata": {},
   "outputs": [],
   "source": [
    "with open('../Metadata/all_metadata.pkl', 'rb') as f:\n",
    "    all_metadata = pickle.load(f) # metadata file for all piano pieces\n",
    "    \n",
    "with open('../Metadata/id_composer_title.pkl', 'rb') as f:\n",
    "    id_composer_title = pickle.load(f) # dictionary that maps piece id to composer and title"
   ]
  },
  {
   "cell_type": "code",
   "execution_count": 8,
   "metadata": {},
   "outputs": [
    {
     "name": "stdout",
     "output_type": "stream",
     "text": [
      "('Bach, Johann Sebastian', 'Prelude and Fugue in D major')\n"
     ]
    }
   ],
   "source": [
    "pdf_id = '02182' # id of the piece you want to look up\n",
    "c, p = id_composer_title[pdf_id] # access composer and title of the piece\n",
    "print((c,p))"
   ]
  },
  {
   "cell_type": "code",
   "execution_count": 9,
   "metadata": {},
   "outputs": [
    {
     "data": {
      "text/plain": [
       "{'Work Title': 'Prelude and Fugue in D major',\n",
       " 'Name Translations': 'Prélude et fugue en ré majeur (BWV 874)',\n",
       " 'Authorities': 'WorldCat\\n;\\nWikipedia\\n;\\nVIAF\\n:\\n311189164\\n;\\nBNF\\n:\\n14012281s',\n",
       " 'Composer': 'Bach, Johann Sebastian',\n",
       " 'Opus/Catalogue Number': 'BWV 874\\xa0; BC L 108',\n",
       " 'I-Catalogue Number': 'IJB 516',\n",
       " 'Key': 'D major',\n",
       " 'Movements/Sections': '2 movements:\\nPræludium\\nFuga',\n",
       " 'Year/Date of Composition': '1740 ca. in\\nDas wohltemperierte Klavier II\\n(No.5)',\n",
       " 'Composer Time Period': 'Baroque',\n",
       " 'Piece Style': 'Baroque',\n",
       " 'Instrumentation': 'Keyboard',\n",
       " 'url': 'https://imslp.org/wiki/Prelude_and_Fugue_in_D_major,_BWV_874_(Bach,_Johann_Sebastian)',\n",
       " 'Alternative Title': '',\n",
       " 'First Publication': '.\\n1801 or before'}"
      ]
     },
     "execution_count": 9,
     "metadata": {},
     "output_type": "execute_result"
    }
   ],
   "source": [
    "all_metadata[c][p] # access metadata of the piece"
   ]
  }
 ],
 "metadata": {
  "kernelspec": {
   "display_name": "baselines",
   "language": "python",
   "name": "python3"
  },
  "language_info": {
   "codemirror_mode": {
    "name": "ipython",
    "version": 3
   },
   "file_extension": ".py",
   "mimetype": "text/x-python",
   "name": "python",
   "nbconvert_exporter": "python",
   "pygments_lexer": "ipython3",
   "version": "3.11.5"
  }
 },
 "nbformat": 4,
 "nbformat_minor": 2
}
