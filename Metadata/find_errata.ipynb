{
 "cells": [
  {
   "cell_type": "markdown",
   "metadata": {},
   "source": [
    "### Go through 9 and 100 way metadata to find any collections of pieces"
   ]
  },
  {
   "cell_type": "code",
   "execution_count": 2,
   "metadata": {},
   "outputs": [],
   "source": [
    "import json"
   ]
  },
  {
   "cell_type": "code",
   "execution_count": 3,
   "metadata": {},
   "outputs": [],
   "source": [
    "with open(\"Metadata/9_way_metadata.json\", \"r\") as f:\n",
    "    metadata_9_way = json.load(f)"
   ]
  },
  {
   "cell_type": "code",
   "execution_count": 4,
   "metadata": {},
   "outputs": [],
   "source": [
    "# Most entries that are collections have a notice stating such\n",
    "prefix = \"\"\"\n",
    "This page is only for complete editions and multiple selections from\n",
    "\"\"\".strip()\n",
    "\n",
    "collections_9 = []\n",
    "\n",
    "for num, metadata in metadata_9_way.items():\n",
    "    if \"notice\" in metadata and prefix in metadata[\"notice\"]:\n",
    "        collections_9.append(num)"
   ]
  },
  {
   "cell_type": "code",
   "execution_count": 5,
   "metadata": {},
   "outputs": [
    {
     "name": "stdout",
     "output_type": "stream",
     "text": [
      "['22079', '494709', '18994', '62575', '22076']\n"
     ]
    }
   ],
   "source": [
    "print(collections_9)"
   ]
  },
  {
   "cell_type": "code",
   "execution_count": 6,
   "metadata": {},
   "outputs": [],
   "source": [
    "with open(\"Metadata/100_way_metadata.json\", \"r\") as f:\n",
    "    metadata_100_way = json.load(f)"
   ]
  },
  {
   "cell_type": "code",
   "execution_count": 7,
   "metadata": {},
   "outputs": [],
   "source": [
    "# Most entries that are collections have a notice stating such\n",
    "\n",
    "collections_100 = []\n",
    "\n",
    "for num, metadata in metadata_100_way.items():\n",
    "    if \"notice\" in metadata and prefix in metadata[\"notice\"]:\n",
    "        collections_100.append(num)"
   ]
  },
  {
   "cell_type": "code",
   "execution_count": 8,
   "metadata": {},
   "outputs": [
    {
     "name": "stdout",
     "output_type": "stream",
     "text": [
      "['112277', '62575', '494709', '22076', '22079', '18994']\n"
     ]
    }
   ],
   "source": [
    "print(collections_100)"
   ]
  },
  {
   "cell_type": "code",
   "execution_count": 13,
   "metadata": {},
   "outputs": [
    {
     "name": "stdout",
     "output_type": "stream",
     "text": [
      "https://imslp.org/wiki/3_Pieces,_Op.45_(Scriabin,_Aleksandr)\n",
      "https://imslp.org/wiki/Soir%C3%A9es_de_Vienne,_S.427_(Liszt,_Franz)\n",
      "https://imslp.org/wiki/3_Minuets,_BWV_841-843_(Bach,_Johann_Sebastian)\n",
      "https://imslp.org/wiki/6_Organ_Sonatas,_Op.65_(Gouin,_Pierre)\n"
     ]
    }
   ],
   "source": [
    "# Problematic pieces I found when looking through the 9-way manually\n",
    "manual = [\n",
    "    \"12663\",\n",
    "    \"302230\",\n",
    "    \"03321\",\n",
    "    \"183661\", # This one we have attributed to Gouin Pierre but now is under this url: https://imslp.org/wiki/6_Organ_Sonatas,_Op.65_(Mendelssohn,_Felix)\n",
    "]\n",
    "\n",
    "for num in manual:\n",
    "    print(metadata_100_way[num]['url'])"
   ]
  },
  {
   "cell_type": "code",
   "execution_count": 14,
   "metadata": {},
   "outputs": [],
   "source": [
    "errata_9_way = collections_9 + manual\n",
    "errata_100_way = collections_100 + manual"
   ]
  },
  {
   "cell_type": "code",
   "execution_count": 15,
   "metadata": {},
   "outputs": [],
   "source": [
    "with open(\"Metadata/9_way_errata.json\", \"w+\") as f:\n",
    "    json.dump(errata_9_way, f)\n",
    "\n",
    "with open(\"Metadata/100_way_errata.json\", \"w+\") as f:\n",
    "    json.dump(errata_100_way, f)"
   ]
  },
  {
   "cell_type": "code",
   "execution_count": null,
   "metadata": {},
   "outputs": [],
   "source": []
  }
 ],
 "metadata": {
  "kernelspec": {
   "display_name": "EWLLMs",
   "language": "python",
   "name": "python3"
  },
  "language_info": {
   "codemirror_mode": {
    "name": "ipython",
    "version": 3
   },
   "file_extension": ".py",
   "mimetype": "text/x-python",
   "name": "python",
   "nbconvert_exporter": "python",
   "pygments_lexer": "ipython3",
   "version": "3.10.11"
  }
 },
 "nbformat": 4,
 "nbformat_minor": 2
}
