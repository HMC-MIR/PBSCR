{
 "cells": [
  {
   "cell_type": "markdown",
   "metadata": {},
   "source": [
    "### Go through 9 and 100 class metadata to find any collections of pieces"
   ]
  },
  {
   "cell_type": "code",
   "execution_count": 14,
   "metadata": {},
   "outputs": [],
   "source": [
    "import json"
   ]
  },
  {
   "cell_type": "code",
   "execution_count": 15,
   "metadata": {},
   "outputs": [],
   "source": [
    "with open(\"Metadata/9_class_metadata.json\", \"r\") as f:\n",
    "    metadata_9_class = json.load(f)"
   ]
  },
  {
   "cell_type": "code",
   "execution_count": 16,
   "metadata": {},
   "outputs": [],
   "source": [
    "# Most entries that are collections have a notice stating such\n",
    "prefix = \"\"\"\n",
    "This page is only for complete editions and multiple selections from\n",
    "\"\"\".strip()\n",
    "\n",
    "collections_9 = []\n",
    "\n",
    "for num, metadata in metadata_9_class.items():\n",
    "    if \"notice\" in metadata and prefix in metadata[\"notice\"]:\n",
    "        collections_9.append(num)"
   ]
  },
  {
   "cell_type": "code",
   "execution_count": 17,
   "metadata": {},
   "outputs": [
    {
     "name": "stdout",
     "output_type": "stream",
     "text": [
      "['22079', '494709', '18994', '62575', '04322', '04104', '22076', '03295']\n"
     ]
    }
   ],
   "source": [
    "print(collections_9)"
   ]
  },
  {
   "cell_type": "code",
   "execution_count": 18,
   "metadata": {},
   "outputs": [],
   "source": [
    "with open(\"Metadata/100_class_metadata.json\", \"r\") as f:\n",
    "    metadata_100_class = json.load(f)"
   ]
  },
  {
   "cell_type": "code",
   "execution_count": 19,
   "metadata": {},
   "outputs": [],
   "source": [
    "# Most entries that are collections have a notice stating such\n",
    "\n",
    "collections_100 = []\n",
    "\n",
    "for num, metadata in metadata_100_class.items():\n",
    "    if \"notice\" in metadata and prefix in metadata[\"notice\"]:\n",
    "        collections_100.append(num)"
   ]
  },
  {
   "cell_type": "code",
   "execution_count": 21,
   "metadata": {},
   "outputs": [],
   "source": [
    "# Problematic pieces I found when looking through the 9-class manually\n",
    "manual = [\n",
    "    \"12663\",\n",
    "    \"302230\",\n",
    "    \"03321\",\n",
    "]"
   ]
  },
  {
   "cell_type": "code",
   "execution_count": 22,
   "metadata": {},
   "outputs": [],
   "source": [
    "errata_9_class = collections_9 + manual\n",
    "errata_100_class = collections_100 + manual"
   ]
  },
  {
   "cell_type": "code",
   "execution_count": 23,
   "metadata": {},
   "outputs": [],
   "source": [
    "with open(\"Metadata/9_class_errata.json\", \"w+\") as f:\n",
    "    json.dump(errata_9_class, f)\n",
    "\n",
    "with open(\"Metadata/100_class_errata.json\", \"w+\") as f:\n",
    "    json.dump(errata_100_class, f)"
   ]
  },
  {
   "cell_type": "code",
   "execution_count": 27,
   "metadata": {},
   "outputs": [
    {
     "name": "stdout",
     "output_type": "stream",
     "text": [
      "22079 https://imslp.org/wiki/15_Sinfonias,_BWV_787-801_(Bach,_Johann_Sebastian)\n",
      "494709 https://imslp.org/wiki/Das_wohltemperierte_Klavier_II,_BWV_870-893_(Bach,_Johann_Sebastian)\n",
      "18994 https://imslp.org/wiki/6_Partitas,_BWV_825-830_(Bach,_Johann_Sebastian)\n",
      "62575 https://imslp.org/wiki/6_Partitas,_BWV_825-830_(Bach,_Johann_Sebastian)\n",
      "04322 https://imslp.org/wiki/8_Kleine_Pr%C3%A4ludien_und_Fugen,_BWV_553-560_(Bach,_Johann_Sebastian)\n",
      "04104 https://imslp.org/wiki/Das_Orgel-B%C3%BCchlein,_BWV_599-644_(Bach,_Johann_Sebastian)\n",
      "22076 https://imslp.org/wiki/15_Inventions,_BWV_772-786_(Bach,_Johann_Sebastian)\n",
      "03295 https://imslp.org/wiki/9_Kleine_Pr%C3%A4ludien,_BWV_924-932_(Bach,_Johann_Sebastian)\n",
      "183661 https://imslp.org/wiki/6_Organ_Sonatas,_Op.65_(Mendelssohn,_Felix)\n",
      "112277 https://imslp.org/wiki/8_Great_Suites,_HWV_426-433_(Handel,_George_Frideric)\n",
      "12663 https://imslp.org/wiki/3_Pieces,_Op.45_(Scriabin,_Aleksandr)\n",
      "302230 https://imslp.org/wiki/Soir%C3%A9es_de_Vienne,_S.427_(Liszt,_Franz)\n",
      "03321 https://imslp.org/wiki/3_Minuets,_BWV_841-843_(Bach,_Johann_Sebastian)\n"
     ]
    }
   ],
   "source": [
    "for num in errata_100_class:\n",
    "    print(num, metadata_100_class[num]['url'])"
   ]
  },
  {
   "cell_type": "code",
   "execution_count": null,
   "metadata": {},
   "outputs": [],
   "source": []
  }
 ],
 "metadata": {
  "kernelspec": {
   "display_name": "EWLLMs",
   "language": "python",
   "name": "python3"
  },
  "language_info": {
   "codemirror_mode": {
    "name": "ipython",
    "version": 3
   },
   "file_extension": ".py",
   "mimetype": "text/x-python",
   "name": "python",
   "nbconvert_exporter": "python",
   "pygments_lexer": "ipython3",
   "version": "3.10.11"
  }
 },
 "nbformat": 4,
 "nbformat_minor": 2
}
