{
 "cells": [
  {
   "attachments": {},
   "cell_type": "markdown",
   "metadata": {},
   "source": [
    "### Take the ensemble predictions, threshold them, and output them in a txt file format\n"
   ]
  },
  {
   "cell_type": "code",
   "execution_count": 1,
   "metadata": {},
   "outputs": [],
   "source": [
    "from pathlib import Path"
   ]
  },
  {
   "cell_type": "code",
   "execution_count": 9,
   "metadata": {},
   "outputs": [],
   "source": [
    "threshold = 0.5"
   ]
  },
  {
   "cell_type": "code",
   "execution_count": 11,
   "metadata": {},
   "outputs": [],
   "source": [
    "# Goes from file -> list of filler pages\n",
    "ensemble_predictions = {}\n",
    "\n",
    "with open(str(Path.cwd().parent / \"cfg_files/filler.tsv\"), \"r\") as f:\n",
    "    for line in f:\n",
    "        path, page, score = line.strip(\"\\n\").split(\"\\t\")\n",
    "        if float(score) > threshold:\n",
    "            if path not in ensemble_predictions.keys():\n",
    "                ensemble_predictions[path] = []\n",
    "\n",
    "            ensemble_predictions[path].append(page)"
   ]
  },
  {
   "cell_type": "code",
   "execution_count": 18,
   "metadata": {},
   "outputs": [],
   "source": [
    "new_path = str(Path.cwd().parent / \"cfg_files/filler_imslp.txt\")\n",
    "with open(new_path, \"w\") as f:\n",
    "    for path, pages in ensemble_predictions.items():\n",
    "        f.write(path + \"\\t\" + \",\".join(pages) + \"\\n\")"
   ]
  },
  {
   "cell_type": "code",
   "execution_count": null,
   "metadata": {},
   "outputs": [],
   "source": []
  }
 ],
 "metadata": {
  "kernelspec": {
   "display_name": "EWLLMs",
   "language": "python",
   "name": "python3"
  },
  "language_info": {
   "codemirror_mode": {
    "name": "ipython",
    "version": 3
   },
   "file_extension": ".py",
   "mimetype": "text/x-python",
   "name": "python",
   "nbconvert_exporter": "python",
   "pygments_lexer": "ipython3",
   "version": "3.12.3"
  },
  "orig_nbformat": 4
 },
 "nbformat": 4,
 "nbformat_minor": 2
}
