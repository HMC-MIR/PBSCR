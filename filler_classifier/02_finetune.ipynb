{
 "cells": [
  {
   "attachments": {},
   "cell_type": "markdown",
   "metadata": {},
   "source": [
    "## Language Model Training Pipeline\n"
   ]
  },
  {
   "cell_type": "code",
   "execution_count": 14,
   "metadata": {},
   "outputs": [],
   "source": [
    "import json\n",
    "import torch\n",
    "import evaluate\n",
    "import transformers\n",
    "import numpy as np\n",
    "import pandas as pd\n",
    "from torch import nn\n",
    "from torch_lr_finder import LRFinder\n",
    "from pathlib import Path\n",
    "from tqdm.notebook import tqdm\n",
    "from datasets import Dataset\n",
    "from tokenizers import Tokenizer\n",
    "from tokenizers.normalizers import Sequence, Lowercase, NFD, StripAccents\n",
    "from tokenizers.pre_tokenizers import Whitespace\n",
    "from tokenizers.models import BPE\n",
    "from tokenizers.trainers import BpeTrainer\n",
    "from tokenizers.decoders import BPEDecoder\n",
    "from transformers import (\n",
    "    AutoConfig,\n",
    "    DataCollatorWithPadding,\n",
    "    AutoModelForSequenceClassification,\n",
    "    Trainer,\n",
    "    TrainingArguments,\n",
    "    AutoTokenizer,\n",
    "    RobertaConfig,\n",
    ")\n",
    "from matplotlib import pyplot as plt\n",
    "import importlib\n",
    "from sklearn.metrics import roc_curve, auc"
   ]
  },
  {
   "cell_type": "code",
   "execution_count": 15,
   "metadata": {},
   "outputs": [],
   "source": [
    "torch.cuda.empty_cache()"
   ]
  },
  {
   "attachments": {},
   "cell_type": "markdown",
   "metadata": {},
   "source": [
    "## Configuration files\n"
   ]
  },
  {
   "cell_type": "code",
   "execution_count": 16,
   "metadata": {},
   "outputs": [],
   "source": [
    "data_path = Path(\"filler\")\n",
    "seed = 42\n",
    "\n",
    "# Tokenizer\n",
    "tokenizer_path = data_path / \"tokenizer/tokenizer.json\"\n",
    "\n",
    "# Language Model Pretraining\n",
    "pretrained_output_model_path = data_path / \"pretrain_lm\"\n",
    "\n",
    "# Classifier Finetuning\n",
    "classifier_output_model_path = data_path / \"finetune_lm\"\n",
    "batch_size = 32\n",
    "epochs = 8\n",
    "learning_rate = 5e-5"
   ]
  },
  {
   "attachments": {},
   "cell_type": "markdown",
   "metadata": {},
   "source": [
    "## Prepare data\n"
   ]
  },
  {
   "cell_type": "code",
   "execution_count": 17,
   "metadata": {},
   "outputs": [],
   "source": [
    "# Prepare data\n",
    "train_df = pd.read_csv(data_path / \"finetune_fragment_train.csv\")\n",
    "val_df = pd.read_csv(data_path / \"finetune_fragment_valid.csv\")\n",
    "train_ds = Dataset.from_dict(train_df)\n",
    "val_ds = Dataset.from_dict(val_df)"
   ]
  },
  {
   "cell_type": "code",
   "execution_count": 18,
   "metadata": {},
   "outputs": [
    {
     "name": "stderr",
     "output_type": "stream",
     "text": [
      "Special tokens have been added in the vocabulary, make sure the associated word embeddings are fine-tuned or trained.\n",
      "Some weights of the model checkpoint at filler/pretrain_lm were not used when initializing GPT2ForSequenceClassification: ['lm_head.weight']\n",
      "- This IS expected if you are initializing GPT2ForSequenceClassification from the checkpoint of a model trained on another task or with another architecture (e.g. initializing a BertForSequenceClassification model from a BertForPreTraining model).\n",
      "- This IS NOT expected if you are initializing GPT2ForSequenceClassification from the checkpoint of a model that you expect to be exactly identical (initializing a BertForSequenceClassification model from a BertForSequenceClassification model).\n",
      "Some weights of GPT2ForSequenceClassification were not initialized from the model checkpoint at filler/pretrain_lm and are newly initialized: ['score.weight']\n",
      "You should probably TRAIN this model on a down-stream task to be able to use it for predictions and inference.\n"
     ]
    }
   ],
   "source": [
    "# Set random seed\n",
    "np.random.seed(seed)\n",
    "torch.manual_seed(seed)\n",
    "\n",
    "# Load Tokenizer\n",
    "tokenizer = AutoTokenizer.from_pretrained(tokenizer_path.parent)\n",
    "config = AutoConfig.from_pretrained(pretrained_output_model_path)\n",
    "config.num_labels = len(set(train_df[\"label\"]))\n",
    "\n",
    "# Get pretrained model\n",
    "model = AutoModelForSequenceClassification.from_pretrained(\n",
    "    pretrained_output_model_path, config=config\n",
    ")\n",
    "tokenizer.pad_token = \"<pad>\"\n",
    "config.pad_token_id = tokenizer.pad_token_id\n",
    "model.pad_token_id = tokenizer.pad_token_id\n",
    "tokenizer.model_max_length = config.n_positions"
   ]
  },
  {
   "cell_type": "code",
   "execution_count": 19,
   "metadata": {},
   "outputs": [
    {
     "data": {
      "application/vnd.jupyter.widget-view+json": {
       "model_id": "b1d752646ded48efbc9303180957e9cf",
       "version_major": 2,
       "version_minor": 0
      },
      "text/plain": [
       "Map:   0%|          | 0/3378 [00:00<?, ? examples/s]"
      ]
     },
     "metadata": {},
     "output_type": "display_data"
    },
    {
     "data": {
      "application/vnd.jupyter.widget-view+json": {
       "model_id": "f60a4c9ce05c462e9f42861564e419e2",
       "version_major": 2,
       "version_minor": 0
      },
      "text/plain": [
       "Map:   0%|          | 0/2220 [00:00<?, ? examples/s]"
      ]
     },
     "metadata": {},
     "output_type": "display_data"
    }
   ],
   "source": [
    "def tokenizer_function(examples):\n",
    "    return tokenizer(examples[\"text\"], padding=\"max_length\", truncation=True)\n",
    "\n",
    "\n",
    "# Tokenize and convert labels to ids\n",
    "train_ds = train_ds.map(tokenizer_function, batched=True)\n",
    "val_ds = val_ds.map(tokenizer_function, batched=True)"
   ]
  },
  {
   "cell_type": "code",
   "execution_count": 20,
   "metadata": {},
   "outputs": [],
   "source": [
    "ds_list = [train_ds, val_ds]\n",
    "ds_list = [ds.remove_columns([\"text\"]) for ds in ds_list]\n",
    "ds_list = [ds.rename_column(\"label\", \"labels\") for ds in ds_list]\n",
    "[ds.set_format(\"torch\") for ds in ds_list]\n",
    "train_dl = torch.utils.data.DataLoader(ds_list[0], shuffle=True, batch_size=batch_size)\n",
    "val_dl = torch.utils.data.DataLoader(ds_list[1], batch_size=batch_size)\n",
    "torch.save(train_dl, data_path / \"train_data_loader.pkl\")\n",
    "torch.save(val_dl, data_path / \"val_data_loader.pkl\")"
   ]
  },
  {
   "cell_type": "code",
   "execution_count": 21,
   "metadata": {},
   "outputs": [],
   "source": [
    "# Freeze all layers except the last one\n",
    "for name, param in model.named_parameters():\n",
    "    param.requires_grad = False\n",
    "model.score.weight.requires_grad = True"
   ]
  },
  {
   "cell_type": "code",
   "execution_count": 22,
   "metadata": {},
   "outputs": [
    {
     "data": {
      "text/plain": [
       "GPT2ForSequenceClassification(\n",
       "  (transformer): GPT2Model(\n",
       "    (wte): Embedding(30001, 768)\n",
       "    (wpe): Embedding(1024, 768)\n",
       "    (drop): Dropout(p=0.1, inplace=False)\n",
       "    (h): ModuleList(\n",
       "      (0-5): 6 x GPT2Block(\n",
       "        (ln_1): LayerNorm((768,), eps=1e-05, elementwise_affine=True)\n",
       "        (attn): GPT2Attention(\n",
       "          (c_attn): Conv1D()\n",
       "          (c_proj): Conv1D()\n",
       "          (attn_dropout): Dropout(p=0.1, inplace=False)\n",
       "          (resid_dropout): Dropout(p=0.1, inplace=False)\n",
       "        )\n",
       "        (ln_2): LayerNorm((768,), eps=1e-05, elementwise_affine=True)\n",
       "        (mlp): GPT2MLP(\n",
       "          (c_fc): Conv1D()\n",
       "          (c_proj): Conv1D()\n",
       "          (act): NewGELUActivation()\n",
       "          (dropout): Dropout(p=0.1, inplace=False)\n",
       "        )\n",
       "      )\n",
       "    )\n",
       "    (ln_f): LayerNorm((768,), eps=1e-05, elementwise_affine=True)\n",
       "  )\n",
       "  (score): Linear(in_features=768, out_features=2, bias=False)\n",
       ")"
      ]
     },
     "execution_count": 22,
     "metadata": {},
     "output_type": "execute_result"
    }
   ],
   "source": [
    "device = torch.device(\"cuda\" if torch.cuda.is_available() else \"cpu\")\n",
    "model.to(device)"
   ]
  },
  {
   "cell_type": "code",
   "execution_count": 23,
   "metadata": {},
   "outputs": [],
   "source": [
    "optimizer = torch.optim.Adam(model.parameters(), lr=learning_rate)\n",
    "num_epochs = epochs\n",
    "num_training_steps = num_epochs * len(train_dl)\n",
    "lr_scheduler = transformers.get_scheduler(\n",
    "    name=\"linear\",\n",
    "    optimizer=optimizer,\n",
    "    num_warmup_steps=0,\n",
    "    num_training_steps=num_training_steps,\n",
    ")"
   ]
  },
  {
   "attachments": {},
   "cell_type": "markdown",
   "metadata": {},
   "source": [
    "## Finetune classifier\n"
   ]
  },
  {
   "cell_type": "code",
   "execution_count": 11,
   "metadata": {},
   "outputs": [
    {
     "data": {
      "application/vnd.jupyter.widget-view+json": {
       "model_id": "aef13f3eca824b13869ab41772b84dca",
       "version_major": 2,
       "version_minor": 0
      },
      "text/plain": [
       "  0%|          | 0/848 [00:00<?, ?it/s]"
      ]
     },
     "metadata": {},
     "output_type": "display_data"
    },
    {
     "data": {
      "application/vnd.jupyter.widget-view+json": {
       "model_id": "8407382533a74c51af2ec9611147547f",
       "version_major": 2,
       "version_minor": 0
      },
      "text/plain": [
       "Downloading builder script:   0%|          | 0.00/4.20k [00:00<?, ?B/s]"
      ]
     },
     "metadata": {},
     "output_type": "display_data"
    },
    {
     "name": "stdout",
     "output_type": "stream",
     "text": [
      "Epoch: 0, TrainLoss: 0.568, ValLoss: 0.406, Accuracy: 0.860\n",
      "Epoch: 1, TrainLoss: 0.334, ValLoss: 0.273, Accuracy: 0.925\n",
      "Epoch: 2, TrainLoss: 0.245, ValLoss: 0.215, Accuracy: 0.939\n",
      "Epoch: 3, TrainLoss: 0.201, ValLoss: 0.185, Accuracy: 0.948\n",
      "Epoch: 4, TrainLoss: 0.180, ValLoss: 0.168, Accuracy: 0.952\n",
      "Epoch: 5, TrainLoss: 0.163, ValLoss: 0.158, Accuracy: 0.955\n",
      "Epoch: 6, TrainLoss: 0.156, ValLoss: 0.152, Accuracy: 0.955\n",
      "Epoch: 7, TrainLoss: 0.153, ValLoss: 0.151, Accuracy: 0.955\n"
     ]
    }
   ],
   "source": [
    "progress_bar = tqdm(range(num_training_steps))\n",
    "metric = evaluate.load(\"accuracy\")\n",
    "log_history = []\n",
    "classifier_output_model_path.mkdir(parents=True, exist_ok=True)\n",
    "for epoch in range(num_epochs):\n",
    "    model.train()\n",
    "    train_loss = 0\n",
    "    for batch in train_dl:\n",
    "        batch = {k: v.to(device) for k, v in batch.items()}\n",
    "        outputs = model(**batch)\n",
    "        loss = outputs.loss\n",
    "        loss.backward()\n",
    "\n",
    "        optimizer.step()\n",
    "        lr_scheduler.step()\n",
    "        optimizer.zero_grad()\n",
    "        progress_bar.update(1)\n",
    "        train_loss += loss.item()\n",
    "    train_loss /= len(train_dl)\n",
    "\n",
    "    model.eval()\n",
    "    val_loss = 0\n",
    "    for batch in val_dl:\n",
    "        batch = {k: v.to(device) for k, v in batch.items()}\n",
    "        with torch.no_grad():\n",
    "            outputs = model(**batch)\n",
    "        logits = outputs.logits\n",
    "\n",
    "        # Apply softmax function along the last dimension\n",
    "        softmax_logits = torch.softmax(logits, dim=-1)\n",
    "\n",
    "        # Get the predicted class probabilities\n",
    "        class_probs = softmax_logits[:, 1]  # class 1 is the filler class\n",
    "\n",
    "        # Round the probabilities to get the predicted class\n",
    "        predictions = (class_probs > 0.5).float()\n",
    "\n",
    "        metric.add_batch(predictions=predictions, references=batch[\"labels\"])\n",
    "        val_loss += outputs.loss.item()\n",
    "    val_loss /= len(val_dl)\n",
    "\n",
    "    acc = metric.compute()\n",
    "    print(\n",
    "        f\"Epoch: {epoch}, TrainLoss: {train_loss:.3f}, ValLoss: {val_loss:.3f}, Accuracy: {acc['accuracy']:.3f}\"\n",
    "    )\n",
    "    log_history.append(\n",
    "        {\n",
    "            \"epoch\": epoch,\n",
    "            \"train_loss\": train_loss,\n",
    "            \"val_loss\": val_loss,\n",
    "            \"accuracy\": acc[\"accuracy\"],\n",
    "        }\n",
    "    )\n",
    "    model.save_pretrained(classifier_output_model_path / f\"epoch_{epoch}\")\n",
    "\n",
    "with open(classifier_output_model_path / \"log_history.json\", \"w\") as fout:\n",
    "    json.dump(log_history, fout)"
   ]
  },
  {
   "attachments": {},
   "cell_type": "markdown",
   "metadata": {},
   "source": [
    "## Visualize training curves\n"
   ]
  },
  {
   "cell_type": "code",
   "execution_count": 6,
   "metadata": {},
   "outputs": [],
   "source": [
    "with open(classifier_output_model_path / \"log_history.json\", \"r\") as f:\n",
    "    log = json.load(f)\n",
    "\n",
    "epochs = [metric[\"epoch\"] for metric in log]\n",
    "train_loss = [metric[\"train_loss\"] for metric in log]\n",
    "val_loss = [metric[\"val_loss\"] for metric in log]\n",
    "accuracy = [metric[\"accuracy\"] for metric in log]"
   ]
  },
  {
   "cell_type": "code",
   "execution_count": 10,
   "metadata": {},
   "outputs": [
    {
     "data": {
      "image/png": "[encoded data removed]",
      "text/plain": [
       "<Figure size 640x480 with 1 Axes>"
      ]
     },
     "metadata": {},
     "output_type": "display_data"
    }
   ],
   "source": [
    "plt.plot(epochs, train_loss, label=\"Train Loss\")\n",
    "plt.plot(epochs, val_loss, label=\"Validation Loss\")\n",
    "plt.xlabel(\"Epoch\")\n",
    "plt.ylabel(\"Loss\")\n",
    "plt.title(\"Training Loss\")\n",
    "plt.legend()\n",
    "plt.show()"
   ]
  },
  {
   "cell_type": "code",
   "execution_count": 11,
   "metadata": {},
   "outputs": [
    {
     "data": {
      "image/png": "[encoded data removed]",
      "text/plain": [
       "<Figure size 640x480 with 1 Axes>"
      ]
     },
     "metadata": {},
     "output_type": "display_data"
    }
   ],
   "source": [
    "plt.plot(epochs, accuracy, label=\"Accuracy\")\n",
    "plt.xlabel(\"Epoch\")\n",
    "plt.ylabel(\"Accuracy\")\n",
    "plt.title(\"Validation Accuracy\")\n",
    "plt.legend()\n",
    "plt.show()"
   ]
  },
  {
   "cell_type": "code",
   "execution_count": 9,
   "metadata": {},
   "outputs": [
    {
     "name": "stdout",
     "output_type": "stream",
     "text": [
      "Validation accuracy on fragments = 0.954954954954955\n"
     ]
    }
   ],
   "source": [
    "print(f\"Validation accuracy on fragments = {accuracy[-1]}\")"
   ]
  },
  {
   "attachments": {},
   "cell_type": "markdown",
   "metadata": {},
   "source": [
    "## Create ROC curve\n"
   ]
  },
  {
   "cell_type": "code",
   "execution_count": 24,
   "metadata": {},
   "outputs": [],
   "source": [
    "model = AutoModelForSequenceClassification.from_pretrained(\n",
    "    classifier_output_model_path / f\"epoch_7\"\n",
    ")\n",
    "device = torch.device(\"cuda\" if torch.cuda.is_available() else \"cpu\")\n",
    "model.to(device)\n",
    "metric = evaluate.load(\"accuracy\")"
   ]
  },
  {
   "cell_type": "code",
   "execution_count": 25,
   "metadata": {},
   "outputs": [
    {
     "name": "stdout",
     "output_type": "stream",
     "text": [
      "Fragement accuracy: 0.954954954954955\n"
     ]
    }
   ],
   "source": [
    "model.eval()\n",
    "labels = []\n",
    "probabilities = []\n",
    "predictions = []\n",
    "\n",
    "for batch in val_dl:\n",
    "    batch = {k: v.to(device) for k, v in batch.items()}\n",
    "    labels.append(batch[\"labels\"])\n",
    "\n",
    "    with torch.no_grad():\n",
    "        outputs = model(**batch)\n",
    "\n",
    "    logits = outputs.logits\n",
    "    probability = torch.softmax(logits, dim=1)\n",
    "\n",
    "    probabilities.append(probability)\n",
    "    prediction = torch.argmax(logits, dim=-1)\n",
    "    predictions.append(prediction)\n",
    "\n",
    "    metric.add_batch(predictions=prediction, references=batch[\"labels\"])\n",
    "\n",
    "accuracy = metric.compute()[\"accuracy\"]\n",
    "print(f\"Fragement accuracy: {accuracy}\")"
   ]
  },
  {
   "cell_type": "code",
   "execution_count": 27,
   "metadata": {},
   "outputs": [
    {
     "data": {
      "image/png": "[encoded data removed]",
      "text/plain": [
       "<Figure size 640x480 with 1 Axes>"
      ]
     },
     "metadata": {},
     "output_type": "display_data"
    }
   ],
   "source": [
    "prob = [float(p) for tensor in probabilities for f, p in tensor]\n",
    "lab = [float(c) for tensor in labels for c in tensor]\n",
    "fpr, tpr, thresholds = roc_curve(y_true=lab, y_score=prob)\n",
    "roc_auc = auc(fpr, tpr)\n",
    "plt.plot(fpr, tpr, label=\"ROC curve (AUC = {:.2f})\".format(roc_auc))\n",
    "plt.xlabel(\"False Positive Rate\")\n",
    "plt.ylabel(\"True Positive Rate\")\n",
    "plt.title(\"ROC with Validation Fragments\")\n",
    "plt.legend()\n",
    "plt.show()"
   ]
  },
  {
   "cell_type": "code",
   "execution_count": null,
   "metadata": {},
   "outputs": [],
   "source": []
  }
 ],
 "metadata": {
  "kernelspec": {
   "display_name": "Python 3",
   "language": "python",
   "name": "python3"
  },
  "language_info": {
   "codemirror_mode": {
    "name": "ipython",
    "version": 3
   },
   "file_extension": ".py",
   "mimetype": "text/x-python",
   "name": "python",
   "nbconvert_exporter": "python",
   "pygments_lexer": "ipython3",
   "version": "3.12.3"
  },
  "orig_nbformat": 4
 },
 "nbformat": 4,
 "nbformat_minor": 2
}
