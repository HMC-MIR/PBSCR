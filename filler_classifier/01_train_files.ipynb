{
 "cells": [
  {
   "attachments": {},
   "cell_type": "markdown",
   "metadata": {},
   "source": [
    "## Create Training Files\n"
   ]
  },
  {
   "cell_type": "code",
   "execution_count": 157,
   "metadata": {},
   "outputs": [],
   "source": [
    "%matplotlib inline\n",
    "%reload_ext autoreload\n",
    "%autoreload 2\n",
    "import glob\n",
    "import os\n",
    "import os.path\n",
    "import time\n",
    "import requests\n",
    "import pickle\n",
    "import shutil\n",
    "import subprocess\n",
    "import matplotlib.pyplot as plt\n",
    "from utils import *\n",
    "import numpy as np\n",
    "import glob\n",
    "from extract_bootleg import *\n",
    "import random\n",
    "from pathlib import Path\n",
    "from bs4 import BeautifulSoup as bsoup"
   ]
  },
  {
   "attachments": {},
   "cell_type": "markdown",
   "metadata": {},
   "source": [
    "## 0. Create `score_feat` directory\n"
   ]
  },
  {
   "cell_type": "markdown",
   "metadata": {},
   "source": [
    "Before starting we need to do the following:\n",
    "\n",
    "1. Download the PDF sheet music scores from IMSLP\n",
    "2. Convert PDFs to PNG images\n",
    "3. Extract bootleg scores for each image and save in `score_feat`.\n"
   ]
  },
  {
   "cell_type": "code",
   "execution_count": 170,
   "metadata": {},
   "outputs": [],
   "source": [
    "def download_file(local_filename, download_link, username, password):\n",
    "    \"\"\"\n",
    "    Logs into IMSLP and downloads a single file.\n",
    "    \"\"\"\n",
    "    time.sleep(1)\n",
    "    login_url = (\n",
    "        \"https://imslp.org/index.php?title=Special:UserLogin&returnto=Main%20Page\"\n",
    "    )\n",
    "    with requests.Session() as s:\n",
    "        r = s.get(login_url)\n",
    "        cookies = dict(r.cookies)\n",
    "        response = r.content\n",
    "        soup = bsoup(response, \"html.parser\")\n",
    "        token = soup.find_all(\"input\", {\"name\": \"wpLoginToken\"})[0][\"value\"]\n",
    "        payload = {\n",
    "            \"wpName\": username,\n",
    "            \"wpPassword\": password,\n",
    "            \"wpLoginAttempt\": \"Log in\",\n",
    "            \"wpLoginToken\": token,\n",
    "        }\n",
    "        login_url = \"https://imslp.org/index.php?title=Special:UserLogin&action=submitlogin&type=login&returnto=Main%20Page\"\n",
    "        s.post(login_url, data=payload, cookies=cookies)\n",
    "        req = s.get(download_link)\n",
    "        with open(local_filename, \"wb\") as f:\n",
    "            for chunk in req.iter_content(chunk_size=1024):\n",
    "                if chunk:\n",
    "                    f.write(chunk)\n",
    "            return local_filename"
   ]
  },
  {
   "cell_type": "code",
   "execution_count": 171,
   "metadata": {},
   "outputs": [],
   "source": [
    "def download_all_filler(download_list, username, password):\n",
    "    \"\"\"\n",
    "    Downloads all of the filler scores in the database.\n",
    "    \"\"\"\n",
    "    with open(download_list, \"r\") as f:\n",
    "        for line in f:\n",
    "            parts = line.strip().split()\n",
    "            assert len(parts) == 2\n",
    "            filename, download_link = parts\n",
    "            directory = \"/\".join(filename.split(\"/\")[:-1])\n",
    "            if not os.path.exists(directory):\n",
    "                os.makedirs(directory)\n",
    "            print(f\"Downloading {filename} from {download_link}\")\n",
    "            download_file(filename, download_link, username, password)"
   ]
  },
  {
   "cell_type": "code",
   "execution_count": 172,
   "metadata": {},
   "outputs": [
    {
     "name": "stdout",
     "output_type": "stream",
     "text": [
      "Downloading data/pdf/Bach/00756.pdf from http://imslp.org/wiki/Special:IMSLPDisclaimerAccept/00756\n",
      "Downloading data/pdf/Bach/438714.pdf from http://imslp.org/wiki/Special:IMSLPDisclaimerAccept/438714\n",
      "Downloading data/pdf/Bach/05830.pdf from http://imslp.org/wiki/Special:IMSLPDisclaimerAccept/05830\n",
      "Downloading data/pdf/Bach/18991.pdf from http://imslp.org/wiki/Special:IMSLPDisclaimerAccept/18991\n",
      "Downloading data/pdf/Bach/00774.pdf from http://imslp.org/wiki/Special:IMSLPDisclaimerAccept/00774\n",
      "Downloading data/pdf/Bach/01016.pdf from http://imslp.org/wiki/Special:IMSLPDisclaimerAccept/01016\n",
      "Downloading data/pdf/Bach/03285.pdf from http://imslp.org/wiki/Special:IMSLPDisclaimerAccept/03285\n",
      "Downloading data/pdf/Bach/03291.pdf from http://imslp.org/wiki/Special:IMSLPDisclaimerAccept/03291\n",
      "Downloading data/pdf/Bach/02200.pdf from http://imslp.org/wiki/Special:IMSLPDisclaimerAccept/02200\n",
      "Downloading data/pdf/Bach/05828.pdf from http://imslp.org/wiki/Special:IMSLPDisclaimerAccept/05828\n",
      "Downloading data/pdf/Bach/06403.pdf from http://imslp.org/wiki/Special:IMSLPDisclaimerAccept/06403\n",
      "Downloading data/pdf/Bach/109051.pdf from http://imslp.org/wiki/Special:IMSLPDisclaimerAccept/109051\n",
      "Downloading data/pdf/Bach/29930.pdf from http://imslp.org/wiki/Special:IMSLPDisclaimerAccept/29930\n",
      "Downloading data/pdf/Bach/03281.pdf from http://imslp.org/wiki/Special:IMSLPDisclaimerAccept/03281\n",
      "Downloading data/pdf/Bach/00751.pdf from http://imslp.org/wiki/Special:IMSLPDisclaimerAccept/00751\n",
      "Downloading data/pdf/Bach/01015.pdf from http://imslp.org/wiki/Special:IMSLPDisclaimerAccept/01015\n",
      "Downloading data/pdf/Bach/06407.pdf from http://imslp.org/wiki/Special:IMSLPDisclaimerAccept/06407\n",
      "Downloading data/pdf/Bach/93235.pdf from http://imslp.org/wiki/Special:IMSLPDisclaimerAccept/93235\n",
      "Downloading data/pdf/Bach/109062.pdf from http://imslp.org/wiki/Special:IMSLPDisclaimerAccept/109062\n",
      "Downloading data/pdf/Bach/335600.pdf from http://imslp.org/wiki/Special:IMSLPDisclaimerAccept/335600\n",
      "Downloading data/pdf/Bach/02094.pdf from http://imslp.org/wiki/Special:IMSLPDisclaimerAccept/02094\n",
      "Downloading data/pdf/Bach/03278.pdf from http://imslp.org/wiki/Special:IMSLPDisclaimerAccept/03278\n",
      "Downloading data/pdf/Bach/03319.pdf from http://imslp.org/wiki/Special:IMSLPDisclaimerAccept/03319\n",
      "Downloading data/pdf/Bach/00766.pdf from http://imslp.org/wiki/Special:IMSLPDisclaimerAccept/00766\n",
      "Downloading data/pdf/Bach/01011.pdf from http://imslp.org/wiki/Special:IMSLPDisclaimerAccept/01011\n",
      "Downloading data/pdf/Bach/06433.pdf from http://imslp.org/wiki/Special:IMSLPDisclaimerAccept/06433\n",
      "Downloading data/pdf/Bach/01020.pdf from http://imslp.org/wiki/Special:IMSLPDisclaimerAccept/01020\n",
      "Downloading data/pdf/Bach/02195.pdf from http://imslp.org/wiki/Special:IMSLPDisclaimerAccept/02195\n",
      "Downloading data/pdf/Bach/03275.pdf from http://imslp.org/wiki/Special:IMSLPDisclaimerAccept/03275\n",
      "Downloading data/pdf/Bach/394103.pdf from http://imslp.org/wiki/Special:IMSLPDisclaimerAccept/394103\n",
      "Downloading data/pdf/Bach/06432.pdf from http://imslp.org/wiki/Special:IMSLPDisclaimerAccept/06432\n",
      "Downloading data/pdf/Bach/06427.pdf from http://imslp.org/wiki/Special:IMSLPDisclaimerAccept/06427\n",
      "Downloading data/pdf/Bach/00792.pdf from http://imslp.org/wiki/Special:IMSLPDisclaimerAccept/00792\n",
      "Downloading data/pdf/Bach/00763.pdf from http://imslp.org/wiki/Special:IMSLPDisclaimerAccept/00763\n",
      "Downloading data/pdf/Bach/02097.pdf from http://imslp.org/wiki/Special:IMSLPDisclaimerAccept/02097\n"
     ]
    }
   ],
   "source": [
    "download_list = \"cfg_files/download_links.txt\"\n",
    "imslp_username = \"ttsai@g.hmc.edu\"\n",
    "imslp_password = \"ScoreData2018!\"\n",
    "download_all_filler(download_list, imslp_username, imslp_password)"
   ]
  },
  {
   "cell_type": "markdown",
   "metadata": {},
   "source": [
    "We have successfully downloaded all PDFs to the `data` directory, we now must convert them to PNGs and extract each bootleg score.\n"
   ]
  },
  {
   "cell_type": "code",
   "execution_count": 173,
   "metadata": {},
   "outputs": [],
   "source": [
    "def PDF2PNG(pdffile, pngfile):\n",
    "    # Tries to convert PDF file to PNG files\n",
    "    try:\n",
    "        if not os.path.exists(os.path.dirname(pngfile)):\n",
    "            os.makedirs(os.path.dirname(pngfile))\n",
    "        subprocess.call(\n",
    "            [\n",
    "                \"convert\",\n",
    "                \"-limit\",\n",
    "                \"memory\",\n",
    "                \"32GiB\",\n",
    "                \"-limit\",\n",
    "                \"map\",\n",
    "                \"8GiB\",\n",
    "                \"-limit\",\n",
    "                \"disk\",\n",
    "                \"16GiB\",\n",
    "                \"-density\",\n",
    "                \"300\",\n",
    "                \"-alpha\",\n",
    "                \"remove\",\n",
    "                \"-resize\",\n",
    "                \"2550\",\n",
    "                pdffile,\n",
    "                pngfile,\n",
    "            ]\n",
    "        )\n",
    "        return True\n",
    "    except:\n",
    "        return False\n",
    "    return False\n",
    "\n",
    "\n",
    "def hashfcn(array):\n",
    "    # Encodes bootleg array to int to reduce memory\n",
    "    hashNum = 0\n",
    "    for i in array:\n",
    "        hashNum = 2 * hashNum + i\n",
    "    return int(hashNum)\n",
    "\n",
    "\n",
    "def PNG2Bootleg(pngDir, errorfile):\n",
    "    total_bscore = []\n",
    "    sortedfiles = []\n",
    "    # First, sort the pages in the right order\n",
    "    for subdir, dirs, files in os.walk(pngDir):\n",
    "        if len(files) == 1:\n",
    "            sortedFiles = [files[0]]\n",
    "        else:\n",
    "            sortedFiles = sorted(files, key=lambda x: int(x.split(\"-\")[-1][:-4]))\n",
    "    for png in sortedFiles:\n",
    "        # For each image, try to exract bootleg features\n",
    "        page_bscore = np.array([]).reshape(62, 0)\n",
    "        imagepath = os.path.join(subdir, png)\n",
    "        try:\n",
    "            bscore_query = processImageFile(imagepath, errorfile)\n",
    "        except:\n",
    "            bscore_query = np.array([]).reshape(62, 0)\n",
    "\n",
    "        try:\n",
    "            page_bscore = np.concatenate((page_bscore, bscore_query), axis=1)\n",
    "        except:\n",
    "            with open(error_log, \"a\"):\n",
    "                print(input_pdf_file + \"-- concatenating failed\", file=f)\n",
    "        # Save bootleg features in right format\n",
    "        hashArray = []\n",
    "        if page_bscore.shape[0] == 0:\n",
    "            pass\n",
    "        elif page_bscore.shape[0] == 1:\n",
    "            hashArray = [hashfcn(page_bscore)]\n",
    "        else:\n",
    "            for col in page_bscore.T:\n",
    "                hashArray.append(hashfcn(col))\n",
    "        total_bscore.append(hashArray)\n",
    "\n",
    "    return total_bscore"
   ]
  },
  {
   "cell_type": "code",
   "execution_count": null,
   "metadata": {},
   "outputs": [],
   "source": [
    "def make_dir(file_path):\n",
    "    directory = \"/\".join(file_path.split(\"/\")[:-1])\n",
    "    if not os.path.exists(directory):\n",
    "        os.makedirs(directory)"
   ]
  },
  {
   "cell_type": "code",
   "execution_count": null,
   "metadata": {},
   "outputs": [],
   "source": [
    "pdf_file = \"data/pdf/Bach/00756.pdf\"\n",
    "png_file = \"data/png/Bach/00756.png\"\n",
    "pkl_file = \"data/pkl/Bach/00756.pkl\"\n",
    "err_file = \"data/err/Bach/00756.txt\"\n",
    "\n",
    "make_dir(pdf_file)\n",
    "make_dir(pdf_file)\n",
    "make_dir(pkl_file)\n",
    "make_dir(err_file)\n",
    "\n",
    "try:\n",
    "    converted = PDF2PNG(pdf_file, png_file)\n",
    "except:\n",
    "    converted = False\n",
    "    with open(err_file, \"a\") as f:\n",
    "        print(\n",
    "            pdf_file + \"-- Failed PDF2PNG conversion for some unknown reason\",\n",
    "            file=f,\n",
    "        )\n",
    "if converted == False:\n",
    "    with open(err_file, \"a\") as f:\n",
    "        print(pdf_file + \"-- convert command failed. Corrupted PDF file.\", file=f)\n",
    "\n",
    "# Try to convert PNG to bootleg score\n",
    "try:\n",
    "    total_bscore = PNG2Bootleg(os.path.dirname(png_file), err_file)\n",
    "except:\n",
    "    total_bscore = np.array([]).reshape(62, 0)\n",
    "    with open(err_file, \"a\") as f:\n",
    "        print(\n",
    "            pdf_file + \"-- Failed PNG2Bootleg conversion for some unknown reason\",\n",
    "            file=f,\n",
    "        )\n",
    "\n",
    "# Remove unnecessary files from tmp directory\n",
    "if os.path.exists(os.path.dirname(png_file)):\n",
    "    shutil.rmtree(os.path.dirname(png_file))\n",
    "if not os.path.exists(os.path.dirname(pkl_file)):\n",
    "    os.makedirs(os.path.dirname(pkl_file))\n",
    "with open(pkl_file, \"wb\") as f:\n",
    "    pickle.dump(total_bscore, f)"
   ]
  },
  {
   "cell_type": "code",
   "execution_count": 147,
   "metadata": {},
   "outputs": [],
   "source": [
    "filler_file = \"cfg_files/filler_v4.txt\"\n",
    "imslp_dir = \"piano_bootleg_scores/imslp_bootleg_dir-v1\"\n",
    "score_dir = \"score_feat\""
   ]
  },
  {
   "attachments": {},
   "cell_type": "markdown",
   "metadata": {},
   "source": [
    "You should have the following directory structure. `cfg_files/` holds all our specific configuration files. `score_feat/` has specific directories for each composer (ie. `Bach/`). In each composer directory, there is a directory for each individual sheet music score (ie. `Bach/00748`). For each sheet music directory there is a pickle file for each pages of the sheet music score (ie. `Bach/00748/00748-0.pkl`). Each pickle file holds the bootleg score for that corresponding page.\n"
   ]
  },
  {
   "cell_type": "code",
   "execution_count": null,
   "metadata": {
    "vscode": {
     "languageId": "bat"
    }
   },
   "outputs": [],
   "source": [
    ".\n",
    "|--score_feat/\n",
    "  |--Bach/\n",
    "    |--00748/\n",
    "      |--00748-0.pkl\n",
    "      |--00748-1.pkl\n",
    "    |--00749/\n",
    "      |--00749-0.pkl\n",
    "      |--00749-1.pkl\n",
    "    ...\n",
    "  |--Beethoven/\n",
    "  |--Chopin/\n",
    "  ...\n",
    "|--cfg_files/\n",
    "  |--download_links.txt\n",
    "  |--filler.txt\n",
    "  |--pdfs.list"
   ]
  },
  {
   "cell_type": "code",
   "execution_count": 162,
   "metadata": {},
   "outputs": [],
   "source": [
    "original_composers = {\n",
    "    \"Bach,_Johann_Sebastian\": \"Bach\",\n",
    "    \"Beethoven,_Ludwig_van\": \"Beethoven\",\n",
    "    \"Chopin,_Fr%C3%A9d%C3%A9ric\": \"Chopin\",\n",
    "    \"Haydn,_Joseph\": \"Haydn\",\n",
    "    \"Liszt,_Franz\": \"Liszt\",\n",
    "    \"Mozart,_Wolfgang_Amadeus\": \"Mozart\",\n",
    "    \"Schubert,_Franz\": \"Schubert\",\n",
    "    \"Scriabin,_Aleksandr\": \"Scriabin\",\n",
    "}"
   ]
  },
  {
   "cell_type": "code",
   "execution_count": 149,
   "metadata": {},
   "outputs": [],
   "source": [
    "composers = glob.glob(imslp_dir + \"/*\")\n",
    "for composer in composers:\n",
    "    songs = glob.glob(composer + \"/*\")\n",
    "    composer_name = composer.split(\"/\")[-1]\n",
    "    if composer_name not in original_composers:\n",
    "        continue\n",
    "    composer_name = original_composers[composer_name]\n",
    "    for song in songs:\n",
    "        pickles = glob.glob(song + \"*/*.pkl\")\n",
    "        for pickle in pickles:\n",
    "            pages = load_pkl(pickle)\n",
    "            piece = pickle.split(\"/\")[-1].split(\".\")[0]\n",
    "            directory = f\"{score_dir}/{composer_name}/{piece}\"\n",
    "            if not os.path.exists(directory):\n",
    "                os.makedirs(directory)\n",
    "            for i, page in enumerate(pages):\n",
    "                data = {\"bscore\": None}\n",
    "                if len(page) != 0:\n",
    "                    data[\"bscore\"] = ints_to_binary_matrix(page)\n",
    "                output_dir = f\"{score_dir}/{composer_name}/{piece}/{piece}-{i}.pkl\"\n",
    "                save_to_pickle(data, output_dir)"
   ]
  },
  {
   "attachments": {},
   "cell_type": "markdown",
   "metadata": {},
   "source": [
    "## 1. Get list of filler pages\n"
   ]
  },
  {
   "attachments": {},
   "cell_type": "markdown",
   "metadata": {},
   "source": [
    "`filler_list` represents the set of all unique \"filler\" pages.\n",
    "\n",
    "A single element contains the folder directory name that represents a single \"piece\" and the corresponding page number the filler page is from.\n",
    "\n",
    "For example, `117297-0` represents the `0th` page of piece labeled `117297`.\n"
   ]
  },
  {
   "cell_type": "code",
   "execution_count": 39,
   "metadata": {},
   "outputs": [],
   "source": [
    "filename = \"score_feat/Jepson,_Harry_Benjamin/Organ_Sonata_/47005.pkl\"\n",
    "with open(filename, \"rb\") as f:\n",
    "    data = pickle.load(f)"
   ]
  },
  {
   "cell_type": "code",
   "execution_count": 150,
   "metadata": {},
   "outputs": [],
   "source": [
    "def get_filler(filler_file, score_dir):\n",
    "    \"\"\"\n",
    "    Return a set of individual pages labeled as filler and ignore.\n",
    "    \"\"\"\n",
    "    filler, ignore = set(), set()\n",
    "    with open(filler_file, \"r\") as f:\n",
    "        for line in f:\n",
    "            x = [x.strip() for x in line.strip().split(\"#\")]\n",
    "            if len(x) > 1:\n",
    "                score_path = x[0]  # e.g. Bach/00748\n",
    "                score_id = os.path.basename(score_path)  # e.g. 00748\n",
    "                remove = x[1].strip('\"')  # e.g. \"0,1,-2,-1\" or \"r\" or \"rl\"\n",
    "                if remove == \"r\" or remove == \"ri\":  # remove all pages\n",
    "                    for file in glob.glob(f\"{score_dir}/{score_path}/*.pkl\"):\n",
    "                        page = os.path.splitext(os.path.basename(file))[\n",
    "                            0\n",
    "                        ]  # e.g. 00822-3\n",
    "                        if remove == \"r\":\n",
    "                            filler.add(page)\n",
    "                        if remove == \"ri\":\n",
    "                            ignore.add(page)\n",
    "                else:\n",
    "                    # are the number of pickle files the same as the number of pages\n",
    "                    num_pages = len(glob.glob(f\"{score_dir}/{score_path}/*.pkl\"))\n",
    "                    if num_pages == 0:\n",
    "                        print(f\"{score_dir}/{score_path}\")\n",
    "                        continue\n",
    "\n",
    "                    for str in remove.split(\",\"):\n",
    "                        if \"i\" in str:\n",
    "                            page = (int(str.replace(\"i\", \"\")) + num_pages) % num_pages\n",
    "                            ignore.add(f\"{score_id}-{page}\")\n",
    "                        else:\n",
    "                            page = (int(str) + num_pages) % num_pages\n",
    "                            filler.add(f\"{score_id}-{page}\")\n",
    "    return filler, ignore"
   ]
  },
  {
   "cell_type": "code",
   "execution_count": 151,
   "metadata": {},
   "outputs": [
    {
     "name": "stdout",
     "output_type": "stream",
     "text": [
      "score_feat/Bach/498228\n",
      "score_feat/Beethoven/217738\n",
      "score_feat/Liszt/09141\n",
      "score_feat/Liszt/13336\n",
      "score_feat/Liszt/58325\n",
      "score_feat/Liszt/117316\n",
      "score_feat/Liszt/146713\n",
      "score_feat/Liszt/286008\n",
      "score_feat/Liszt/286012\n",
      "score_feat/Liszt/300583\n",
      "score_feat/Liszt/493810\n",
      "score_feat/Liszt/502010\n",
      "score_feat/Mozart/56676\n",
      "score_feat/Mozart/82507\n",
      "score_feat/Schumann/53509\n",
      "score_feat/Schumann/54401\n",
      "score_feat/Schumann/54412\n",
      "score_feat/Schumann/54919\n",
      "score_feat/Schumann/55516\n",
      "score_feat/Schumann/77076\n",
      "score_feat/Schumann/78923\n",
      "score_feat/Schumann/289727\n",
      "score_feat/Schumann/289796\n",
      "score_feat/Schumann/336379\n",
      "score_feat/Schumann/422949\n",
      "score_feat/Schumann/423690\n",
      "score_feat/Schumann/451299\n",
      "score_feat/Schumann/456369\n",
      "score_feat/Scriabin/508538\n",
      "score_feat/Scriabin/508548\n"
     ]
    }
   ],
   "source": [
    "# set of filler pages: ie, '475019-7', '109490-6', '399774-11'\n",
    "filler_list, ignore_list = get_filler(filler_file, score_dir)"
   ]
  },
  {
   "attachments": {},
   "cell_type": "markdown",
   "metadata": {},
   "source": [
    "## 2. Get bscores matrices for nonfiller and filler pages\n"
   ]
  },
  {
   "attachments": {},
   "cell_type": "markdown",
   "metadata": {},
   "source": [
    "`feats` and `filler_feats` are both dictionaries that map a single composition directory (ie. `'score_feat/Haydn/475019/'`) to a list of bscore matrices.\n",
    "\n",
    "There is a single bscore matrix for each page that is not `None`.\n",
    "\n",
    "A single bscore matrix is of size $(62 \\times n)$ where $n$ is the number of features calculated on a single page of sheet music.\n"
   ]
  },
  {
   "cell_type": "code",
   "execution_count": 152,
   "metadata": {},
   "outputs": [],
   "source": [
    "def get_bootleg(score_dir, filler_list, ignore_list, remove_filler, remove_nonfiller):\n",
    "    \"\"\"\n",
    "    Extract bootleg score from all pages with a val score matrix.\n",
    "    Return a map from a piece directory to a list of bootleg scores for each page.\n",
    "    \"\"\"\n",
    "    res = {}\n",
    "    for dir in glob.glob(f\"{score_dir}/*/*/\"):  # e.g. bootleg_score/Bach/00748/\n",
    "        piece = dir.split(\"/\")[-2]\n",
    "        composer = dir.split(\"/\")[-3]\n",
    "        features = []  # features from all pages in this score (or None if filler/no features extracted)\n",
    "        num_pages = len(glob.glob(\"{}/*.pkl\".format(dir)))\n",
    "        for i in range(num_pages):\n",
    "            file = f\"{dir}/{piece}-{i}.pkl\"\n",
    "            page = f\"{piece}-{i}\"\n",
    "            if page in ignore_list:\n",
    "                continue\n",
    "            if page in filler_list:\n",
    "                if remove_filler:\n",
    "                    features.append(None)\n",
    "                    continue\n",
    "            else:\n",
    "                if remove_nonfiller:\n",
    "                    features.append(None)\n",
    "                    continue\n",
    "\n",
    "            data = load_pkl(file)\n",
    "            bscore = data[\"bscore\"]\n",
    "            if bscore is None:  # if None, no features were computed\n",
    "                features.append(None)\n",
    "            else:\n",
    "                features.append(\n",
    "                    (bscore.T == 1, f\"{composer}/{piece}/{i}\")\n",
    "                )  # convert from float to bool to compress memory\n",
    "        if len(features) > 0:\n",
    "            res[dir] = features\n",
    "    return res"
   ]
  },
  {
   "cell_type": "code",
   "execution_count": 153,
   "metadata": {},
   "outputs": [],
   "source": [
    "nonfiller_feats = get_bootleg(\n",
    "    score_dir, filler_list, ignore_list, remove_filler=True, remove_nonfiller=False\n",
    ")\n",
    "filler_feats = get_bootleg(\n",
    "    score_dir, filler_list, ignore_list, remove_filler=False, remove_nonfiller=True\n",
    ")\n",
    "nonignore_feats = get_bootleg(\n",
    "    score_dir, filler_list, ignore_list, remove_filler=False, remove_nonfiller=False\n",
    ")"
   ]
  },
  {
   "cell_type": "code",
   "execution_count": 154,
   "metadata": {},
   "outputs": [],
   "source": [
    "def plot_features(feats, title):\n",
    "    # count number of features per page\n",
    "    features = []\n",
    "    for dir in feats:\n",
    "        for page in feats[dir]:\n",
    "            if page is not None:\n",
    "                features.append(page[0].shape[1])\n",
    "    features = np.array(features)\n",
    "    # plot histogram\n",
    "    plt.subplot(2, 1, 1)\n",
    "    plt.hist(features, bins=100)\n",
    "    plt.xlabel(\"Number of Features In Single Page\")\n",
    "    plt.ylabel(\"Frequency\")\n",
    "    plt.title(title)\n",
    "    plt.show()"
   ]
  },
  {
   "attachments": {},
   "cell_type": "markdown",
   "metadata": {},
   "source": [
    "We plot the number of features in each page classified as non-filler and filler respectively.\n"
   ]
  },
  {
   "cell_type": "code",
   "execution_count": 155,
   "metadata": {},
   "outputs": [
    {
     "data": {
      "image/png": "[encoded data removed]",
      "text/plain": [
       "<Figure size 640x480 with 1 Axes>"
      ]
     },
     "metadata": {},
     "output_type": "display_data"
    }
   ],
   "source": [
    "plot_features(nonfiller_feats, \"Non-filler Pages\")"
   ]
  },
  {
   "cell_type": "code",
   "execution_count": 140,
   "metadata": {},
   "outputs": [
    {
     "data": {
      "image/png": "[encoded data removed]",
      "text/plain": [
       "<Figure size 640x480 with 1 Axes>"
      ]
     },
     "metadata": {},
     "output_type": "display_data"
    }
   ],
   "source": [
    "plot_features(filler_feats, \"Filler Pages\")"
   ]
  },
  {
   "attachments": {},
   "cell_type": "markdown",
   "metadata": {},
   "source": [
    "## 3. Crate training/validation split in `train_val_page_split.pkl`\n"
   ]
  },
  {
   "attachments": {},
   "cell_type": "markdown",
   "metadata": {},
   "source": [
    "Of all the non-filler pieces, we allocate 60% to training and 40% to validation. The same split is done for filler pages.\n",
    "\n",
    "We save this data split in files named `train_val_page_split.pkl`.\n",
    "\n",
    "For `train_val_page_split.pkl`, we save:\n",
    "\n",
    "1. the original `feats` dictionary\n",
    "\n",
    "2. a dictionary of similiar structure consisting of all training bscore matrices that are not `None`\n",
    "\n",
    "3. a similiar dictionary for all validation bscore matrices that are not `None`.\n",
    "\n",
    "4. the composer, piece and page number information\n"
   ]
  },
  {
   "cell_type": "code",
   "execution_count": 11,
   "metadata": {},
   "outputs": [],
   "source": [
    "def all_none(l):\n",
    "    return all(v is None for v in l)\n",
    "\n",
    "\n",
    "def split_data(feats, train=0.6, seed=420):\n",
    "    np.random.seed(seed)\n",
    "    dirs = list(feats.keys())\n",
    "    np.random.shuffle(dirs)\n",
    "    split = int(len(dirs) * train)\n",
    "    train_feats = {\n",
    "        d: [p for p in feats[d] if p is not None]\n",
    "        for d in dirs[0:split]\n",
    "        if not all_none(feats[d])\n",
    "    }\n",
    "    val_feats = {\n",
    "        d: [p for p in feats[d] if p is not None]\n",
    "        for d in dirs[split:]\n",
    "        if not all_none(feats[d])\n",
    "    }\n",
    "    return train_feats, val_feats"
   ]
  },
  {
   "cell_type": "code",
   "execution_count": 12,
   "metadata": {},
   "outputs": [],
   "source": [
    "# def find_best_seed(n=10000):\n",
    "#     res = []\n",
    "#     for i in range(0, n):\n",
    "#         train_feats, val_feats = split_data(feats, train=.5, seed=i)\n",
    "#         train_filler_feats, val_filler_feats = split_data(filler_feats, train=.5, seed=i)\n",
    "#         train_feats_num_pages = sum([len(train_feats[d]) for d in train_feats])\n",
    "#         val_feats_num_pages = sum([len(val_feats[d]) for d in val_feats])\n",
    "#         train_filler_feats_num_pages = sum([len(train_filler_feats[d]) for d in train_filler_feats])\n",
    "#         val_filler_feats_num_pages = sum([len(val_filler_feats[d]) for d in val_filler_feats])\n",
    "#         diff1 = abs(train_feats_num_pages-val_feats_num_pages)\n",
    "#         diff2 = abs(train_filler_feats_num_pages-val_filler_feats_num_pages)\n",
    "#         res.append((diff1+diff2, diff1, diff2, i))\n",
    "#     res.sort()\n",
    "#     for i in range(10):\n",
    "#         print(f'Seed {res[i][3]} has {res[i][0]} differences in pages. {res[i][1]} for non-filler and {res[i][2]} for filler')"
   ]
  },
  {
   "cell_type": "code",
   "execution_count": 13,
   "metadata": {},
   "outputs": [],
   "source": [
    "train_pages, val_pages = split_data(nonfiller_feats)\n",
    "train_filler_pages, val_filler_pages = split_data(filler_feats)"
   ]
  },
  {
   "cell_type": "code",
   "execution_count": 14,
   "metadata": {},
   "outputs": [],
   "source": [
    "save_to_pickle(\n",
    "    [train_pages, val_pages, train_filler_pages, val_filler_pages],\n",
    "    data_path / \"train_val_page_split.pkl\",\n",
    ")"
   ]
  },
  {
   "cell_type": "code",
   "execution_count": 15,
   "metadata": {},
   "outputs": [
    {
     "name": "stdout",
     "output_type": "stream",
     "text": [
      "3478 pages in train_pages\n",
      "2460 pages in val_pages\n",
      "160 pages in train_filler_pages\n",
      "99 pages in val_filler_pages\n"
     ]
    }
   ],
   "source": [
    "print(f\"{sum([len(train_pages[d]) for d in train_pages])} pages in train_pages\")\n",
    "print(f\"{sum([len(val_pages[d]) for d in val_pages])} pages in val_pages\")\n",
    "print(\n",
    "    f\"{sum([len(train_filler_pages[d]) for d in train_filler_pages])} pages in train_filler_pages\"\n",
    ")\n",
    "print(\n",
    "    f\"{sum([len(val_filler_pages[d]) for d in val_filler_pages])} pages in val_filler_pages\"\n",
    ")"
   ]
  },
  {
   "attachments": {},
   "cell_type": "markdown",
   "metadata": {},
   "source": [
    "## 4. Sample filler pages to get `N_filler_train` and `N_filler_val`\n"
   ]
  },
  {
   "attachments": {},
   "cell_type": "markdown",
   "metadata": {},
   "source": [
    "For each filler page, we sample all length $L=16$ fragments with $50\\%$ overlap. This dense sampling will augment our training and validation data.\n",
    "\n",
    "We sample filler pages from `train_filler_pages` and `val_filler_pages` in the same manner.\n",
    "\n",
    "We end up with `N_filler_train` and `N_filler_val` which represent tensors of shape $(1689, 62, 16)$ and $(1110, 62, 16)$ respectively.\n",
    "\n",
    "This means that there are $1689$ and $1110$ training and validation fragments respectively. Every fragment is a bscore matrix of size $(62, 16)$.\n"
   ]
  },
  {
   "cell_type": "code",
   "execution_count": 16,
   "metadata": {},
   "outputs": [],
   "source": [
    "def sample_filler(feats, L=16):\n",
    "    res = []\n",
    "    pages = [page[0] for dir in feats for page in feats[dir]]\n",
    "    for page in pages:\n",
    "        for i in range(0, page.shape[1] - L, L // 2):\n",
    "            res.append(page[:, i : i + L])\n",
    "    return np.array(res)"
   ]
  },
  {
   "cell_type": "code",
   "execution_count": 17,
   "metadata": {},
   "outputs": [],
   "source": [
    "L = 16\n",
    "N_filler_train = sample_filler(train_filler_pages, L)\n",
    "N_filler_val = sample_filler(val_filler_pages, L)"
   ]
  },
  {
   "cell_type": "code",
   "execution_count": 18,
   "metadata": {},
   "outputs": [
    {
     "name": "stdout",
     "output_type": "stream",
     "text": [
      "1689 training filler fragments with augmentation\n",
      "1110 validation filler fragments with augmentation\n"
     ]
    }
   ],
   "source": [
    "print(f\"{N_filler_train.shape[0]} training filler fragments with augmentation\")\n",
    "print(f\"{N_filler_val.shape[0]} validation filler fragments with augmentation\")"
   ]
  },
  {
   "attachments": {},
   "cell_type": "markdown",
   "metadata": {},
   "source": [
    "## 5. Sample non-filler pages to get `N_train` and `N_val`\n"
   ]
  },
  {
   "attachments": {},
   "cell_type": "markdown",
   "metadata": {},
   "source": [
    "For the training data, we want to ensure we have an equal number of filler and non-filler pages. Thus, for every filler page in `N_filler_train`, we sample a random fragment from a random piece from the training partition `train_feats`. This ensures all pieces are represented equally.\n",
    "\n",
    "The validation data is sampled in a similiar manner.\n",
    "\n",
    "We end up with `N_train` and `N_val` which represent tensors of shape $(1689, 62, 16)$ and $(1110, 62, 16)$ respectively.\n",
    "\n",
    "Notice this is the same shape of `N_filler_train` and `N_filler_val` respectively.\n"
   ]
  },
  {
   "cell_type": "code",
   "execution_count": 19,
   "metadata": {},
   "outputs": [],
   "source": [
    "def sample_nonfiller(feats, filler, L=16):\n",
    "    np.random.seed(42)\n",
    "    res = []\n",
    "    pieces = [feats[dir] for dir in feats]\n",
    "    for _ in filler:\n",
    "        length = 0\n",
    "        while length < L:\n",
    "            piece = pieces[np.random.randint(len(pieces))]\n",
    "            page = piece[np.random.randint(len(piece))]\n",
    "            length = page[0].shape[1]\n",
    "        i = np.random.randint(length - L)\n",
    "        res.append(page[0][:, i : i + L])\n",
    "    return np.array(res)"
   ]
  },
  {
   "cell_type": "code",
   "execution_count": 20,
   "metadata": {},
   "outputs": [],
   "source": [
    "N_train = sample_nonfiller(train_pages, N_filler_train, L)\n",
    "N_val = sample_nonfiller(val_pages, N_filler_val, L)"
   ]
  },
  {
   "cell_type": "code",
   "execution_count": 21,
   "metadata": {},
   "outputs": [
    {
     "name": "stdout",
     "output_type": "stream",
     "text": [
      "shape of non-filler training data (1689, 62, 16)\n",
      "shape of non-filler validation data (1110, 62, 16)\n"
     ]
    }
   ],
   "source": [
    "print(f\"shape of non-filler training data {N_train.shape}\")\n",
    "print(f\"shape of non-filler validation data {N_val.shape}\")"
   ]
  },
  {
   "attachments": {},
   "cell_type": "markdown",
   "metadata": {},
   "source": [
    "## 6. Create `train_val_fragment_split.pkl` containing training/validation tensors\n"
   ]
  },
  {
   "attachments": {},
   "cell_type": "markdown",
   "metadata": {},
   "source": [
    "To construct `X_train`, we simply concatenate the `N_train` and `N_filler_train` tensors.\n",
    "\n",
    "We create a tensor of `y` labels where $y=1$ represents a filler page and $y=0$ otherwise.\n",
    "\n",
    "`X_val` and `Y_val` are created similiarly. We shuffle all these tensors.\n",
    "\n",
    "We then save `X_train`, `Y_train`, `X_val`, `Y_val` in `train_val_fragment_split.pkl`\n"
   ]
  },
  {
   "cell_type": "code",
   "execution_count": 22,
   "metadata": {},
   "outputs": [],
   "source": [
    "def make_labels(non_filler, filler):\n",
    "    zeros = np.zeros(non_filler.shape[0], dtype=int)\n",
    "    ones = np.ones(filler.shape[0], dtype=int)\n",
    "    X = np.concatenate([non_filler, filler], axis=0)\n",
    "    Y = np.concatenate([zeros, ones], axis=0)\n",
    "    i = np.arange(Y.shape[0])\n",
    "    np.random.seed(42)\n",
    "    np.random.shuffle(i)\n",
    "    return X[i, :, :], Y[i]"
   ]
  },
  {
   "cell_type": "code",
   "execution_count": 23,
   "metadata": {},
   "outputs": [],
   "source": [
    "X_train, Y_train = make_labels(N_train, N_filler_train)\n",
    "X_val, Y_val = make_labels(N_val, N_filler_val)"
   ]
  },
  {
   "cell_type": "code",
   "execution_count": 24,
   "metadata": {},
   "outputs": [
    {
     "name": "stdout",
     "output_type": "stream",
     "text": [
      "shape of X_train training data (3378, 62, 16)\n",
      "shape of Y_train training data (3378,)\n",
      "shape of X_val validation data (2220, 62, 16)\n",
      "shape of Y_val validation data (2220,)\n"
     ]
    }
   ],
   "source": [
    "print(f\"shape of X_train training data {X_train.shape}\")\n",
    "print(f\"shape of Y_train training data {Y_train.shape}\")\n",
    "print(f\"shape of X_val validation data {X_val.shape}\")\n",
    "print(f\"shape of Y_val validation data {Y_val.shape}\")"
   ]
  },
  {
   "cell_type": "code",
   "execution_count": 25,
   "metadata": {},
   "outputs": [],
   "source": [
    "save_to_pickle(\n",
    "    [X_train, Y_train, X_val, Y_val], data_path / \"train_val_fragment_split.pkl\"\n",
    ")"
   ]
  },
  {
   "attachments": {},
   "cell_type": "markdown",
   "metadata": {},
   "source": [
    "Let's quickly visualize the bootleg scores for a couple filler and non-filler pages.\n"
   ]
  },
  {
   "cell_type": "code",
   "execution_count": 26,
   "metadata": {},
   "outputs": [
    {
     "data": {
      "image/png": "[encoded data removed]",
      "text/plain": [
       "<Figure size 1000x1000 with 1 Axes>"
      ]
     },
     "metadata": {},
     "output_type": "display_data"
    }
   ],
   "source": [
    "visualize_bootleg(nonignore_feats[\"filler/score_feat/Liszt/516478/\"][0][0])"
   ]
  },
  {
   "attachments": {},
   "cell_type": "markdown",
   "metadata": {},
   "source": [
    "## 7. Create fragment classification training `train.csv` and `valid.csv`\n"
   ]
  },
  {
   "attachments": {},
   "cell_type": "markdown",
   "metadata": {},
   "source": [
    "`train.csv` and `valid.csv` are used for classifier training. Labels are needed for this step when we use transfer learning on the language model to correctly classify fragments as filler and non-filler.\n",
    "\n",
    "Every line in the text file represents a single fragment. A fragment's bscore matrix is converted to a sequence of integer representations.\n"
   ]
  },
  {
   "cell_type": "code",
   "execution_count": 27,
   "metadata": {},
   "outputs": [],
   "source": [
    "def generate_csv(x, y, outfile):\n",
    "    with open(outfile, \"w\") as f:\n",
    "        f.write(\"label,text\\n\")\n",
    "        for i in range(x.shape[0]):\n",
    "            ints = convert_binary_to_int(x[i, :, :])\n",
    "            line = \" \".join([str(i) for i in ints])\n",
    "            chars = convert_line_to_char_sequence(line)\n",
    "            f.write(f\"{y[i]},{chars}\\n\")\n",
    "\n",
    "\n",
    "generate_csv(X_train, Y_train, data_path / \"finetune_fragment_train.csv\")\n",
    "generate_csv(X_val, Y_val, data_path / \"finetune_fragment_valid.csv\")"
   ]
  },
  {
   "cell_type": "code",
   "execution_count": 28,
   "metadata": {},
   "outputs": [
    {
     "name": "stdout",
     "output_type": "stream",
     "text": [
      "There are 3378 examples in finetune_fragment_train.csv\n"
     ]
    }
   ],
   "source": [
    "train_csv_lines = int(\n",
    "    os.popen(f\"wc -l filler/finetune_fragment_train.csv\").read().split()[0]\n",
    ")\n",
    "print(f\"There are {train_csv_lines-1} examples in finetune_fragment_train.csv\")"
   ]
  },
  {
   "cell_type": "code",
   "execution_count": 29,
   "metadata": {},
   "outputs": [
    {
     "name": "stdout",
     "output_type": "stream",
     "text": [
      "There are 2220 examples in finetune_fragment_valid.csv\n"
     ]
    }
   ],
   "source": [
    "valid_csv_lines = int(\n",
    "    os.popen(f\"wc -l filler/finetune_fragment_valid.csv\").read().split()[0]\n",
    ")\n",
    "print(f\"There are {valid_csv_lines-1} examples in finetune_fragment_valid.csv\")"
   ]
  },
  {
   "cell_type": "code",
   "execution_count": 30,
   "metadata": {},
   "outputs": [
    {
     "name": "stdout",
     "output_type": "stream",
     "text": [
      "label,text\n",
      "1,一一一丁一一一一 一乀一一一一一一 乀一一一一一一一 一一一一丁一一一 一一一丁一一一一 丠乀一一一一一一 一一一丐一一一一 一一丠一丠一一一 一丐一一丈一一一 一一一丠一一一一 一一一一一一一一 一一乀一一一一一 一丨一一一一一一 一一一一一一一一 一一一一一一一一 一一一一丠一一一\n",
      "0,一一一一一丠一一 一一一一一丠一一 一一一一一亀一一 一一一一一乀一一 一一一一一一丈一 一一乂一一一丁一 一一一一一一丄一 一亀丐一一一丂一 一一一一一乀一一 一一一一一丐一一 一一一一一丄一一 一一一一亀一一一 一一一一丠一一一 一一一一丈一一一 一一一乀一一一一 一一一一丁一一一\n",
      "0,一乀一一一丁一一 一一丁一亀一一一 一一丄一乀一一一 一一丐一一丂一一 一一亀一一丄一一 一一丐一一一一一 一一一丂一丁一一 一一丐一一一一一 一一丈一乀丄一一 一一丂一一一一一 一一丈一丐丂一一 一乀一一亀丁一一 一亀一一一丂一一 一一丈一一一一一 一丠一一亀一一一 一一丈一一一一一\n",
      "1,一乀丁一一一一一 一一乀一一一丄一 一一丰一一一一一 一一乀一一一一一 一一丠一一一一一 一一乀一一一一一 亠一丠一一亀丈一 亀乀丁一一一一一 乀一一一一一一一 乀一一一一亀丄一 一一一一一亀一一 乐亀一一乐一一一 一一一一一丐一一 丠一一一一丐一一 一一丐一一一一一 一乐一一一一一一\n",
      "0,一亀丂一一一一一 一一一一一亐一一 一丐一一一一一一 一一一一一両一一 亀一一一一一一一 一一一一亀丐一一 一亀丈一一乀一一 一乀丈一一亀一一 一一一一一一丁一 一一一一一乀一一 一一一一一亀一一 一一一一一丠一一 一乀丈一一亀一一 一亀丈一一乀一一 一一一一一亀一一 一一一一一丠一一\n",
      "1,一丐丈一一一一一 一一丈一一一一一 一一丈一丈一一一 一一丈一一一一一 一一丈一一一一一 一丐一一一一一一 一丐丈一一一一一 一丈丈一一一一一 一丈丈一一一一一 一丐一一一一一一 乜一一一什七一一 一习一一一一一一 一一丨一一一一一 一一丐一一一一一 一一丠一一一一一 一一丐一一一一一\n",
      "0,一一一一一丠一一 一一一一一丂一一 一一丈一一丁一一 一一一一亀一一一 一一一一乀一一一 一一丐一亀一一一 一一一一一丂一一 一一一一丠一一一 一一丂一一一一一 一一一一乀一一一 一一一一丐一一一 一一丄一丠一一一 一一一一亀一一一 一一一一丠一一一 一亀一一丠一一一 一一一一亀一一一\n",
      "1,一一一亀一一一一 一亀一丁一丈一一 一一一亀一一一一 丄丐乀一丐一一一 一丂丈一丂一一一 一一丄一一一一一 丆一一一丐一一一 一一一一一一一一 一一一一一丈一一 一一一一一丈一一 丂一一一一一一一 一一一一一一一一 一一一一一一一一 丂一一一一一一一 丈一丐一一一一一 丈丠一一丠一一一\n",
      "0,一一乀一一丁一一 一一一一一丂一一 一一丂一一丄一一 一一乀一一丈一一 一一丁一一丐一一 一一一一一乀一一 一乀一一一亀一一 一一丠一一丐一一 一一乀一一丈一一 一一一丁一一一一 一一一丂一一一一 一一一一丈亄一一 一一一一丐丠一一 一一一一亀丐一一 一一一一乀丈一一 一一一一丠丐一一\n"
     ]
    }
   ],
   "source": [
    "!head -n 10 filler/finetune_fragment_train.csv"
   ]
  },
  {
   "cell_type": "code",
   "execution_count": 31,
   "metadata": {},
   "outputs": [
    {
     "name": "stdout",
     "output_type": "stream",
     "text": [
      "label,text\n",
      "1,一一丸一丄一一一 一一丄一一一一一 一一丂一一一一一 一一丄一一一一一 一一丂一一一一一 一丈一一一一一一 一一万一一一一一 一一上一一一一一 一一仧一一一一一 一亀丆一一一一一 一一万一一一一一 一一乘一一一一一 一一乊一一一一一 一一丄一一一一一 一一乨一亀一一一 一一乘一乀一一一\n",
      "0,一一一一一乄丂一 一亠丈一一乄丂一 一一丕一乂丅一一 一一一一一丄丂一 一一一一一丄丂一 一一一一一丄丂一 丐丈一一一一一一 丐丈一一一一一一 一一一一一丁一一 丐丈一亀丨丁一一 丐丈一亀丨丁一一 丐丈一亀丨丁一一 丐丈一一一一一一 丐丈一一一一一一 丐丈一一一一一一 一一一一一丄一一\n",
      "0,一一一一乀一一一 一丈一一丠一一一 一丐一一一一一一 一丠一一一丈一一 一一一一一丄一一 一乀一一一丂一一 一一一一一丁一一 一一丠乂丄一一一 一一且一乀丅一一 一一丁一一一一一 一乀一一一一一一 一乀一一一一一一 一乀一一亀丢一一 一丠一一一丛一一 一丠一一一一一一 一丐一一一一一一\n",
      "0,丠丐一一亀一一一 一一丄一乀三一一 一一丠丄一丄一一 一一丁一一丈一一 一一丈丂乀丐一一 一一一一亀一一一 丠丐一一一丁一一 一一丂一亠丄一一 一一乀丈亀一一一 一亀一一一丁一一 一一丐丁亠丂一一 一一一一一丁一一 一丐丈一亀一一一 一一丈丄乐丈一一 一一丈丄一一一一 一一丈丄一一一一\n",
      "0,一一丈一丂丁一一 一一一一一丄一一 一一一一一丈一一 一一一一一丄一一 一一亀丂习丐一一 一一一一乀一一一 一一一丁亐一一一 一一亀丂丐丁一一 一一乀丁丐丂一一 一一亠一丐丈一一 一一乀丁丐丂一一 一一丂丁亐一一一 一一亄一么一一一 一一丄丁予丄一一 一一乄一丨丄一一 一一丅一亀一一一\n",
      "0,一丠一一一一一一 一丈一一丠丄丂一 一亠丄一一京丂一 一丂丠一一丈丄一 一乀丄一一亨丄一 一一丄一一丐丈一 一一丁一一一一一 一予丄一一亐上一 一丈丄一一亂乀一 一一丁一一一一一 一一专一乀丂一一 一丨丅一一一丢一 一一一一一丠丐一 一丢丁一一亡一一 一一一一一丂丁一 一一亄一一丢丁一\n",
      "0,一一一一亀一一一 一乀丐一一七一一 一一亀一一丁一一 一一一一一丂一一 一一一一丠一一一 一一丄丁亀丐一一 一一一乀亀丐一一 一一一一亀一一一 一乀丐一一丁一一 一一一一一丂一一 一一亀一一丁一一 一一一一一丂一一 一一一一丠一一一 一一一一一丁一一 一乀丐一丠丄一一 一一一一丠丄一一\n",
      "0,一一一一一丁一一 一一一一一丄一一 一一一一一丠一一 一一一一乀一一一 一一一一一丁一一 一一一一一丄一一 一一一一一丠一一 一一丕一亀丄一一 一一一一乀一一一 一一一一一丁一一 一一一一一丈一一 一一一一一丠一一 一一一一乀一一一 一一一一一丁一一 一一一一一丈一一 一一一一一丠一一\n",
      "0,一亀一乀丆一一一 一亀一乀上一一一 一乀一一一一一一 一亀一一一一一一 一一丈一丂一一一 一乀丒一乀丂一一 一一丅一一丨一一 一丠一丠三一一一 一丠一丠丅一一一 一丠一丠丅一一一 一丠一丠七一一一 一丠丐丠丅一一一 一丠一丠三一一一 一丢丐丐一一一一 一丠丐丐丄一一一 一丠丐一上一一一\n"
     ]
    }
   ],
   "source": [
    "!head -n 10 filler/finetune_fragment_valid.csv"
   ]
  },
  {
   "cell_type": "code",
   "execution_count": null,
   "metadata": {},
   "outputs": [],
   "source": []
  }
 ],
 "metadata": {
  "kernelspec": {
   "display_name": "Python 3 (ipykernel)",
   "language": "python",
   "name": "python3"
  },
  "language_info": {
   "codemirror_mode": {
    "name": "ipython",
    "version": 3
   },
   "file_extension": ".py",
   "mimetype": "text/x-python",
   "name": "python",
   "nbconvert_exporter": "python",
   "pygments_lexer": "ipython3",
   "version": "3.12.3"
  },
  "orig_nbformat": 4
 },
 "nbformat": 4,
 "nbformat_minor": 2
}
